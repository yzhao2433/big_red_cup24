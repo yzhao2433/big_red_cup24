{
 "cells": [
  {
   "cell_type": "code",
   "execution_count": 85,
   "id": "9eee8289-f516-48fc-81d7-539cfc762c64",
   "metadata": {},
   "outputs": [],
   "source": [
    "import numpy as np\n",
    "import duckdb\n",
    "import pandas as pd\n",
    "import seaborn as sns\n",
    "import math\n",
    "import statsmodels.api as sm\n",
    "from sklearn.linear_model import LogisticRegression\n",
    "from sklearn.model_selection import train_test_split\n",
    "from scipy.stats import chi2_contingency\n",
    "from scipy.stats import norm"
   ]
  },
  {
   "cell_type": "markdown",
   "id": "93b37ae5-bbef-4b1e-acfa-9d45f0041217",
   "metadata": {},
   "source": [
    "# Hypothesis 1: What type of shots yield more success?"
   ]
  },
  {
   "cell_type": "markdown",
   "id": "0525e65f-71b3-4a70-a9d0-2b2772671f7a",
   "metadata": {},
   "source": [
    "There are many different types of shots that a hockey player can play, however some type of shots might have a greater success rate than others in making a goal."
   ]
  },
  {
   "cell_type": "code",
   "execution_count": 67,
   "id": "250a7c2f-98cc-434a-a683-66b4bb1e2322",
   "metadata": {},
   "outputs": [],
   "source": [
    "df = pd.read_csv('BDC_2024_Womens_Data .csv')"
   ]
  },
  {
   "cell_type": "code",
   "execution_count": 68,
   "id": "75edbd20-d1d0-429f-808d-3ec66aeb52f2",
   "metadata": {},
   "outputs": [
    {
     "data": {
      "text/plain": [
       "Index(['Date', 'Home Team', 'Away Team', 'Period', 'Clock',\n",
       "       'Home Team Skaters', 'Away Team Skaters', 'Home Team Goals',\n",
       "       'Away Team Goals', 'Team', 'Player', 'Event', 'X Coordinate',\n",
       "       'Y Coordinate', 'Detail 1', 'Detail 2', 'Detail 3', 'Detail 4',\n",
       "       'Player 2', 'X Coordinate 2', 'Y Coordinate 2'],\n",
       "      dtype='object')"
      ]
     },
     "execution_count": 68,
     "metadata": {},
     "output_type": "execute_result"
    }
   ],
   "source": [
    "df.columns"
   ]
  },
  {
   "cell_type": "code",
   "execution_count": 69,
   "id": "0ce94b4c-99e2-4032-b56e-ffccef7c2709",
   "metadata": {},
   "outputs": [
    {
     "data": {
      "text/html": [
       "<div>\n",
       "<style scoped>\n",
       "    .dataframe tbody tr th:only-of-type {\n",
       "        vertical-align: middle;\n",
       "    }\n",
       "\n",
       "    .dataframe tbody tr th {\n",
       "        vertical-align: top;\n",
       "    }\n",
       "\n",
       "    .dataframe thead th {\n",
       "        text-align: right;\n",
       "    }\n",
       "</style>\n",
       "<table border=\"1\" class=\"dataframe\">\n",
       "  <thead>\n",
       "    <tr style=\"text-align: right;\">\n",
       "      <th></th>\n",
       "      <th>Event</th>\n",
       "      <th>Shot Type</th>\n",
       "    </tr>\n",
       "  </thead>\n",
       "  <tbody>\n",
       "    <tr>\n",
       "      <th>0</th>\n",
       "      <td>Goal</td>\n",
       "      <td>Wristshot</td>\n",
       "    </tr>\n",
       "    <tr>\n",
       "      <th>1</th>\n",
       "      <td>Goal</td>\n",
       "      <td>Wristshot</td>\n",
       "    </tr>\n",
       "    <tr>\n",
       "      <th>2</th>\n",
       "      <td>Goal</td>\n",
       "      <td>Snapshot</td>\n",
       "    </tr>\n",
       "    <tr>\n",
       "      <th>3</th>\n",
       "      <td>Goal</td>\n",
       "      <td>Wristshot</td>\n",
       "    </tr>\n",
       "    <tr>\n",
       "      <th>4</th>\n",
       "      <td>Shot</td>\n",
       "      <td>Snapshot</td>\n",
       "    </tr>\n",
       "    <tr>\n",
       "      <th>...</th>\n",
       "      <td>...</td>\n",
       "      <td>...</td>\n",
       "    </tr>\n",
       "    <tr>\n",
       "      <th>418</th>\n",
       "      <td>Shot</td>\n",
       "      <td>Wristshot</td>\n",
       "    </tr>\n",
       "    <tr>\n",
       "      <th>419</th>\n",
       "      <td>Shot</td>\n",
       "      <td>Wristshot</td>\n",
       "    </tr>\n",
       "    <tr>\n",
       "      <th>420</th>\n",
       "      <td>Shot</td>\n",
       "      <td>Wristshot</td>\n",
       "    </tr>\n",
       "    <tr>\n",
       "      <th>421</th>\n",
       "      <td>Shot</td>\n",
       "      <td>Wristshot</td>\n",
       "    </tr>\n",
       "    <tr>\n",
       "      <th>422</th>\n",
       "      <td>Shot</td>\n",
       "      <td>Snapshot</td>\n",
       "    </tr>\n",
       "  </tbody>\n",
       "</table>\n",
       "<p>423 rows × 2 columns</p>\n",
       "</div>"
      ],
      "text/plain": [
       "    Event  Shot Type\n",
       "0    Goal  Wristshot\n",
       "1    Goal  Wristshot\n",
       "2    Goal   Snapshot\n",
       "3    Goal  Wristshot\n",
       "4    Shot   Snapshot\n",
       "..    ...        ...\n",
       "418  Shot  Wristshot\n",
       "419  Shot  Wristshot\n",
       "420  Shot  Wristshot\n",
       "421  Shot  Wristshot\n",
       "422  Shot   Snapshot\n",
       "\n",
       "[423 rows x 2 columns]"
      ]
     },
     "execution_count": 69,
     "metadata": {},
     "output_type": "execute_result"
    }
   ],
   "source": [
    "query = \"\"\"\n",
    "        SELECT Event, \"Detail 1\" AS \"Shot Type\", \n",
    "        FROM df\n",
    "        WHERE Event = 'Goal' OR Event = 'Shot'\n",
    "        \"\"\"\n",
    "\n",
    "shots_df = duckdb.sql(query).df()\n",
    "shots_df"
   ]
  },
  {
   "cell_type": "code",
   "execution_count": 70,
   "id": "eb0bcbfe-58c9-4f25-97c1-de382f7bba48",
   "metadata": {},
   "outputs": [
    {
     "data": {
      "text/plain": [
       "array(['Wristshot', 'Snapshot', 'Fan', 'Slapshot', 'Deflection',\n",
       "       'Wrap Around', 'Bat', 'Poke'], dtype=object)"
      ]
     },
     "execution_count": 70,
     "metadata": {},
     "output_type": "execute_result"
    }
   ],
   "source": [
    "shots_df['Shot Type'].unique()"
   ]
  },
  {
   "cell_type": "markdown",
   "id": "c79bd18a-afa5-4579-be49-ddb6e87c257b",
   "metadata": {},
   "source": [
    "There are 8 different types of shots: Wristshot, Snapshot, Fan, Slapshot, Deflection, Wrap Around, Bat, and Poke."
   ]
  },
  {
   "cell_type": "code",
   "execution_count": 71,
   "id": "ee3880a4-901f-4c75-ac56-64428d22b64d",
   "metadata": {},
   "outputs": [
    {
     "data": {
      "text/html": [
       "<div>\n",
       "<style scoped>\n",
       "    .dataframe tbody tr th:only-of-type {\n",
       "        vertical-align: middle;\n",
       "    }\n",
       "\n",
       "    .dataframe tbody tr th {\n",
       "        vertical-align: top;\n",
       "    }\n",
       "\n",
       "    .dataframe thead th {\n",
       "        text-align: right;\n",
       "    }\n",
       "</style>\n",
       "<table border=\"1\" class=\"dataframe\">\n",
       "  <thead>\n",
       "    <tr style=\"text-align: right;\">\n",
       "      <th></th>\n",
       "      <th>Shot Type</th>\n",
       "      <th>Total Attempted</th>\n",
       "      <th>Success</th>\n",
       "    </tr>\n",
       "  </thead>\n",
       "  <tbody>\n",
       "    <tr>\n",
       "      <th>0</th>\n",
       "      <td>Fan</td>\n",
       "      <td>11</td>\n",
       "      <td>0</td>\n",
       "    </tr>\n",
       "    <tr>\n",
       "      <th>1</th>\n",
       "      <td>Bat</td>\n",
       "      <td>1</td>\n",
       "      <td>0</td>\n",
       "    </tr>\n",
       "    <tr>\n",
       "      <th>2</th>\n",
       "      <td>Wristshot</td>\n",
       "      <td>185</td>\n",
       "      <td>9</td>\n",
       "    </tr>\n",
       "    <tr>\n",
       "      <th>3</th>\n",
       "      <td>Wrap Around</td>\n",
       "      <td>4</td>\n",
       "      <td>0</td>\n",
       "    </tr>\n",
       "    <tr>\n",
       "      <th>4</th>\n",
       "      <td>Poke</td>\n",
       "      <td>1</td>\n",
       "      <td>0</td>\n",
       "    </tr>\n",
       "    <tr>\n",
       "      <th>5</th>\n",
       "      <td>Slapshot</td>\n",
       "      <td>27</td>\n",
       "      <td>1</td>\n",
       "    </tr>\n",
       "    <tr>\n",
       "      <th>6</th>\n",
       "      <td>Deflection</td>\n",
       "      <td>27</td>\n",
       "      <td>2</td>\n",
       "    </tr>\n",
       "    <tr>\n",
       "      <th>7</th>\n",
       "      <td>Snapshot</td>\n",
       "      <td>167</td>\n",
       "      <td>8</td>\n",
       "    </tr>\n",
       "  </tbody>\n",
       "</table>\n",
       "</div>"
      ],
      "text/plain": [
       "     Shot Type  Total Attempted  Success\n",
       "0          Fan               11        0\n",
       "1          Bat                1        0\n",
       "2    Wristshot              185        9\n",
       "3  Wrap Around                4        0\n",
       "4         Poke                1        0\n",
       "5     Slapshot               27        1\n",
       "6   Deflection               27        2\n",
       "7     Snapshot              167        8"
      ]
     },
     "execution_count": 71,
     "metadata": {},
     "output_type": "execute_result"
    }
   ],
   "source": [
    "query = \"\"\"\n",
    "        SELECT \"Shot Type\", \n",
    "        COUNT(Event) AS \"Total Attempted\",\n",
    "        COUNT (CASE WHEN Event = 'Goal' THEN 1 END) AS \"Success\"\n",
    "        FROM shots_df\n",
    "        GROUP BY \"Shot Type\"\n",
    "        \"\"\"\n",
    "\n",
    "shot_type_df = duckdb.sql(query).df()\n",
    "shot_type_df"
   ]
  },
  {
   "cell_type": "code",
   "execution_count": 72,
   "id": "d7038f38-aa91-45d6-b66a-31322ee1d0f8",
   "metadata": {},
   "outputs": [
    {
     "data": {
      "text/html": [
       "<div>\n",
       "<style scoped>\n",
       "    .dataframe tbody tr th:only-of-type {\n",
       "        vertical-align: middle;\n",
       "    }\n",
       "\n",
       "    .dataframe tbody tr th {\n",
       "        vertical-align: top;\n",
       "    }\n",
       "\n",
       "    .dataframe thead th {\n",
       "        text-align: right;\n",
       "    }\n",
       "</style>\n",
       "<table border=\"1\" class=\"dataframe\">\n",
       "  <thead>\n",
       "    <tr style=\"text-align: right;\">\n",
       "      <th></th>\n",
       "      <th>Shot Type</th>\n",
       "      <th>Total Attempted</th>\n",
       "      <th>Success</th>\n",
       "      <th>Success Rate</th>\n",
       "    </tr>\n",
       "  </thead>\n",
       "  <tbody>\n",
       "    <tr>\n",
       "      <th>0</th>\n",
       "      <td>Fan</td>\n",
       "      <td>11</td>\n",
       "      <td>0</td>\n",
       "      <td>0.00</td>\n",
       "    </tr>\n",
       "    <tr>\n",
       "      <th>1</th>\n",
       "      <td>Bat</td>\n",
       "      <td>1</td>\n",
       "      <td>0</td>\n",
       "      <td>0.00</td>\n",
       "    </tr>\n",
       "    <tr>\n",
       "      <th>2</th>\n",
       "      <td>Wristshot</td>\n",
       "      <td>185</td>\n",
       "      <td>9</td>\n",
       "      <td>4.86</td>\n",
       "    </tr>\n",
       "    <tr>\n",
       "      <th>3</th>\n",
       "      <td>Wrap Around</td>\n",
       "      <td>4</td>\n",
       "      <td>0</td>\n",
       "      <td>0.00</td>\n",
       "    </tr>\n",
       "    <tr>\n",
       "      <th>4</th>\n",
       "      <td>Poke</td>\n",
       "      <td>1</td>\n",
       "      <td>0</td>\n",
       "      <td>0.00</td>\n",
       "    </tr>\n",
       "    <tr>\n",
       "      <th>5</th>\n",
       "      <td>Slapshot</td>\n",
       "      <td>27</td>\n",
       "      <td>1</td>\n",
       "      <td>3.70</td>\n",
       "    </tr>\n",
       "    <tr>\n",
       "      <th>6</th>\n",
       "      <td>Deflection</td>\n",
       "      <td>27</td>\n",
       "      <td>2</td>\n",
       "      <td>7.41</td>\n",
       "    </tr>\n",
       "    <tr>\n",
       "      <th>7</th>\n",
       "      <td>Snapshot</td>\n",
       "      <td>167</td>\n",
       "      <td>8</td>\n",
       "      <td>4.79</td>\n",
       "    </tr>\n",
       "  </tbody>\n",
       "</table>\n",
       "</div>"
      ],
      "text/plain": [
       "     Shot Type  Total Attempted  Success  Success Rate\n",
       "0          Fan               11        0          0.00\n",
       "1          Bat                1        0          0.00\n",
       "2    Wristshot              185        9          4.86\n",
       "3  Wrap Around                4        0          0.00\n",
       "4         Poke                1        0          0.00\n",
       "5     Slapshot               27        1          3.70\n",
       "6   Deflection               27        2          7.41\n",
       "7     Snapshot              167        8          4.79"
      ]
     },
     "execution_count": 72,
     "metadata": {},
     "output_type": "execute_result"
    }
   ],
   "source": [
    "shot_type_df['Success Rate'] = round((shot_type_df['Success'] / shot_type_df['Total Attempted'] ) , 4) * 100\n",
    "shot_type_df"
   ]
  },
  {
   "cell_type": "markdown",
   "id": "3ad18baa-dca7-4a58-8f53-e84bf4ab2182",
   "metadata": {},
   "source": [
    "From this data set, we can see that out of all the shots, Deflection shots have the highest success rate. To test whether this is actually true we will conduct a hypothesis test."
   ]
  },
  {
   "cell_type": "markdown",
   "id": "8ea825c1-475a-4725-9355-b192adc8979b",
   "metadata": {},
   "source": [
    "## Hypothesis Test:\n",
    "\n",
    "Null Hypothesis: All types of shots have the same chance of yielding success.\n",
    "\n",
    "Alternative Hypothesis: One type of shot has a higher chance of yielding success, in this case, a deflection shot."
   ]
  },
  {
   "cell_type": "code",
   "execution_count": 83,
   "id": "2832207e-7beb-45f6-8563-a5094d1bc771",
   "metadata": {},
   "outputs": [
    {
     "data": {
      "text/plain": [
       "21.15"
      ]
     },
     "execution_count": 83,
     "metadata": {},
     "output_type": "execute_result"
    }
   ],
   "source": [
    "total_attempts = shot_type_df[\"Total Attempted\"].values\n",
    "successes = shot_type_df[\"Success\"].values\n",
    "\n",
    "overall_success_rate = total_attempts.sum()/successes.sum()\n",
    "overall_success_rate"
   ]
  },
  {
   "cell_type": "code",
   "execution_count": 90,
   "id": "3da3f98a-5eee-4d29-852f-bbd561b29100",
   "metadata": {},
   "outputs": [],
   "source": [
    "z_scores = []\n",
    "p_values = []\n",
    "\n",
    "\n",
    "#Z-test\n",
    "for attempts, success in zip(total_attempts, successes):\n",
    "    success_rate = success/attempts\n",
    "\n",
    "    #standard error\n",
    "    se = np.sqrt((success_rate * (1 - success_rate)) / attempts)\n",
    "\n",
    "    #z-score\n",
    "    if se == 0:\n",
    "        z = np.nan\n",
    "        p = np.nan\n",
    "    else:\n",
    "        z = (success_rate - overall_success_rate) / se\n",
    "        p = 2 * (1 - norm.cdf(np.abs(z))) \n",
    "\n",
    "    z_scores.append(z)\n",
    "    p_values.append(p)"
   ]
  },
  {
   "cell_type": "code",
   "execution_count": 100,
   "id": "34562d5f-aab1-4c11-bd4e-ec69590f0df5",
   "metadata": {},
   "outputs": [
    {
     "name": "stdout",
     "output_type": "stream",
     "text": [
      "Fan: p-value = nan\n",
      "Bat: p-value = nan\n",
      "Wristshot: p-value = 0.0\n",
      "Wrap Around: p-value = nan\n",
      "Poke: p-value = nan\n",
      "Slapshot: p-value = 0.0\n",
      "Deflection: p-value = 0.0\n",
      "Snapshot: p-value = 0.0\n"
     ]
    }
   ],
   "source": [
    "sig_shot_types = []\n",
    "for shot_type, p in zip(shot_type_df['Shot Type'], p_values):\n",
    "    print(shot_type + \": p-value = \" + str(p))\n",
    "    if p < 0.05:\n",
    "        sig_shot_types.append(shot_type)"
   ]
  },
  {
   "cell_type": "markdown",
   "id": "844887ee-86fa-43c0-9075-b4c55b9b5d08",
   "metadata": {},
   "source": [
    "Since all of the p-values are less than 0.05, or equal to nan, we cannot come to a conclusion right now. So to further analyze this, I will perform a chi-square test."
   ]
  },
  {
   "cell_type": "code",
   "execution_count": 124,
   "id": "c82b4c0c-4125-44e2-936d-27c4484d5de3",
   "metadata": {},
   "outputs": [],
   "source": [
    "#observed\n",
    "total_attempts = shot_type_df[\"Total Attempted\"].values\n",
    "successes = shot_type_df[\"Success\"].values"
   ]
  },
  {
   "cell_type": "code",
   "execution_count": 134,
   "id": "aff9ddce-ca75-4826-bdb7-832344bb6711",
   "metadata": {},
   "outputs": [],
   "source": [
    "overall_success_rate = observed.sum() / total_attempts.sum()\n",
    "#expected = np.array([[rate * overall_success_rate for rate in total_attempts]])\n",
    "\n",
    "#had to make a small adjustment to avoid getting 0 elements\n",
    "expected = np.array([[rate * overall_success_rate + 1e-10 for rate in total_attempts]])"
   ]
  },
  {
   "cell_type": "code",
   "execution_count": 136,
   "id": "ce056bad-1dcf-48f8-910c-a56103990764",
   "metadata": {},
   "outputs": [
    {
     "ename": "ValueError",
     "evalue": "The internally computed table of expected frequencies has a zero element at (0,).",
     "output_type": "error",
     "traceback": [
      "\u001b[0;31m---------------------------------------------------------------------------\u001b[0m",
      "\u001b[0;31mValueError\u001b[0m                                Traceback (most recent call last)",
      "Cell \u001b[0;32mIn[136], line 1\u001b[0m\n\u001b[0;32m----> 1\u001b[0m x2, p \u001b[38;5;241m=\u001b[39m chi2_contingency(observed)\n",
      "File \u001b[0;32m~/anaconda3/envs/BigDataCup/lib/python3.11/site-packages/scipy/stats/contingency.py:340\u001b[0m, in \u001b[0;36mchi2_contingency\u001b[0;34m(observed, correction, lambda_)\u001b[0m\n\u001b[1;32m    336\u001b[0m \u001b[38;5;28;01mif\u001b[39;00m np\u001b[38;5;241m.\u001b[39many(expected \u001b[38;5;241m==\u001b[39m \u001b[38;5;241m0\u001b[39m):\n\u001b[1;32m    337\u001b[0m     \u001b[38;5;66;03m# Include one of the positions where expected is zero in\u001b[39;00m\n\u001b[1;32m    338\u001b[0m     \u001b[38;5;66;03m# the exception message.\u001b[39;00m\n\u001b[1;32m    339\u001b[0m     zeropos \u001b[38;5;241m=\u001b[39m \u001b[38;5;28mlist\u001b[39m(\u001b[38;5;28mzip\u001b[39m(\u001b[38;5;241m*\u001b[39mnp\u001b[38;5;241m.\u001b[39mnonzero(expected \u001b[38;5;241m==\u001b[39m \u001b[38;5;241m0\u001b[39m)))[\u001b[38;5;241m0\u001b[39m]\n\u001b[0;32m--> 340\u001b[0m     \u001b[38;5;28;01mraise\u001b[39;00m \u001b[38;5;167;01mValueError\u001b[39;00m(\u001b[38;5;124m\"\u001b[39m\u001b[38;5;124mThe internally computed table of expected \u001b[39m\u001b[38;5;124m\"\u001b[39m\n\u001b[1;32m    341\u001b[0m                      \u001b[38;5;124m\"\u001b[39m\u001b[38;5;124mfrequencies has a zero element at \u001b[39m\u001b[38;5;132;01m{}\u001b[39;00m\u001b[38;5;124m.\u001b[39m\u001b[38;5;124m\"\u001b[39m\u001b[38;5;241m.\u001b[39mformat(zeropos))\n\u001b[1;32m    343\u001b[0m \u001b[38;5;66;03m# The degrees of freedom\u001b[39;00m\n\u001b[1;32m    344\u001b[0m dof \u001b[38;5;241m=\u001b[39m expected\u001b[38;5;241m.\u001b[39msize \u001b[38;5;241m-\u001b[39m \u001b[38;5;28msum\u001b[39m(expected\u001b[38;5;241m.\u001b[39mshape) \u001b[38;5;241m+\u001b[39m expected\u001b[38;5;241m.\u001b[39mndim \u001b[38;5;241m-\u001b[39m \u001b[38;5;241m1\u001b[39m\n",
      "\u001b[0;31mValueError\u001b[0m: The internally computed table of expected frequencies has a zero element at (0,)."
     ]
    }
   ],
   "source": [
    "x2, p = chi2_contingency(observed)"
   ]
  },
  {
   "cell_type": "code",
   "execution_count": 137,
   "id": "81c8b9be-0ae1-448c-9136-c0501d8fb5a2",
   "metadata": {},
   "outputs": [
    {
     "ename": "NameError",
     "evalue": "name 'x2' is not defined",
     "output_type": "error",
     "traceback": [
      "\u001b[0;31m---------------------------------------------------------------------------\u001b[0m",
      "\u001b[0;31mNameError\u001b[0m                                 Traceback (most recent call last)",
      "Cell \u001b[0;32mIn[137], line 1\u001b[0m\n\u001b[0;32m----> 1\u001b[0m \u001b[38;5;28mprint\u001b[39m(\u001b[38;5;124m\"\u001b[39m\u001b[38;5;124mChi square statistic: \u001b[39m\u001b[38;5;124m\"\u001b[39m \u001b[38;5;241m+\u001b[39m \u001b[38;5;28mstr\u001b[39m(x2))\n\u001b[1;32m      2\u001b[0m \u001b[38;5;28mprint\u001b[39m(\u001b[38;5;124m\"\u001b[39m\u001b[38;5;124mP-value: \u001b[39m\u001b[38;5;124m\"\u001b[39m \u001b[38;5;241m+\u001b[39m \u001b[38;5;28mstr\u001b[39m(p))\n",
      "\u001b[0;31mNameError\u001b[0m: name 'x2' is not defined"
     ]
    }
   ],
   "source": [
    "print(\"Chi square statistic: \" + str(x2))\n",
    "print(\"P-value: \" + str(p))"
   ]
  }
 ],
 "metadata": {
  "kernelspec": {
   "display_name": "Python 3 (ipykernel)",
   "language": "python",
   "name": "python3"
  },
  "language_info": {
   "codemirror_mode": {
    "name": "ipython",
    "version": 3
   },
   "file_extension": ".py",
   "mimetype": "text/x-python",
   "name": "python",
   "nbconvert_exporter": "python",
   "pygments_lexer": "ipython3",
   "version": "3.11.7"
  }
 },
 "nbformat": 4,
 "nbformat_minor": 5
}
