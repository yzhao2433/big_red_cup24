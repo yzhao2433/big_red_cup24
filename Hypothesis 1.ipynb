{
 "cells": [
  {
   "cell_type": "code",
   "execution_count": 127,
   "id": "9eee8289-f516-48fc-81d7-539cfc762c64",
   "metadata": {},
   "outputs": [],
   "source": [
    "import numpy as np\n",
    "import duckdb\n",
    "import pandas as pd\n",
    "#import seaborn as sns\n",
    "import statsmodels.formula.api as sfm\n",
    "import statsmodels.api as sm\n",
    "from sklearn.linear_model import LogisticRegression\n",
    "#from sklearn.model_selection import train_test_split\n",
    "from scipy.stats import chi2_contingency\n",
    "from scipy.stats import norm"
   ]
  },
  {
   "cell_type": "markdown",
   "id": "93b37ae5-bbef-4b1e-acfa-9d45f0041217",
   "metadata": {},
   "source": [
    "# Hypothesis 1: What type of shots yield more success?"
   ]
  },
  {
   "cell_type": "markdown",
   "id": "0525e65f-71b3-4a70-a9d0-2b2772671f7a",
   "metadata": {},
   "source": [
    "There are many different types of shots that a hockey player can play, however some type of shots might have a greater success rate than others in making a goal."
   ]
  },
  {
   "cell_type": "code",
   "execution_count": 111,
   "id": "250a7c2f-98cc-434a-a683-66b4bb1e2322",
   "metadata": {},
   "outputs": [],
   "source": [
    "df = pd.read_csv('BDC_2024_Womens_Data.csv')"
   ]
  },
  {
   "cell_type": "code",
   "execution_count": 112,
   "id": "75edbd20-d1d0-429f-808d-3ec66aeb52f2",
   "metadata": {},
   "outputs": [
    {
     "data": {
      "text/plain": [
       "Index(['Date', 'Home Team', 'Away Team', 'Period', 'Clock',\n",
       "       'Home Team Skaters', 'Away Team Skaters', 'Home Team Goals',\n",
       "       'Away Team Goals', 'Team', 'Player', 'Event', 'X Coordinate',\n",
       "       'Y Coordinate', 'Detail 1', 'Detail 2', 'Detail 3', 'Detail 4',\n",
       "       'Player 2', 'X Coordinate 2', 'Y Coordinate 2'],\n",
       "      dtype='object')"
      ]
     },
     "execution_count": 112,
     "metadata": {},
     "output_type": "execute_result"
    }
   ],
   "source": [
    "df.columns"
   ]
  },
  {
   "cell_type": "code",
   "execution_count": 113,
   "id": "0ce94b4c-99e2-4032-b56e-ffccef7c2709",
   "metadata": {},
   "outputs": [
    {
     "data": {
      "text/html": [
       "<div>\n",
       "<style scoped>\n",
       "    .dataframe tbody tr th:only-of-type {\n",
       "        vertical-align: middle;\n",
       "    }\n",
       "\n",
       "    .dataframe tbody tr th {\n",
       "        vertical-align: top;\n",
       "    }\n",
       "\n",
       "    .dataframe thead th {\n",
       "        text-align: right;\n",
       "    }\n",
       "</style>\n",
       "<table border=\"1\" class=\"dataframe\">\n",
       "  <thead>\n",
       "    <tr style=\"text-align: right;\">\n",
       "      <th></th>\n",
       "      <th>Event</th>\n",
       "      <th>Shot Type</th>\n",
       "    </tr>\n",
       "  </thead>\n",
       "  <tbody>\n",
       "    <tr>\n",
       "      <th>0</th>\n",
       "      <td>Goal</td>\n",
       "      <td>Wristshot</td>\n",
       "    </tr>\n",
       "    <tr>\n",
       "      <th>1</th>\n",
       "      <td>Goal</td>\n",
       "      <td>Wristshot</td>\n",
       "    </tr>\n",
       "    <tr>\n",
       "      <th>2</th>\n",
       "      <td>Goal</td>\n",
       "      <td>Snapshot</td>\n",
       "    </tr>\n",
       "    <tr>\n",
       "      <th>3</th>\n",
       "      <td>Goal</td>\n",
       "      <td>Wristshot</td>\n",
       "    </tr>\n",
       "    <tr>\n",
       "      <th>4</th>\n",
       "      <td>Shot</td>\n",
       "      <td>Snapshot</td>\n",
       "    </tr>\n",
       "    <tr>\n",
       "      <th>...</th>\n",
       "      <td>...</td>\n",
       "      <td>...</td>\n",
       "    </tr>\n",
       "    <tr>\n",
       "      <th>418</th>\n",
       "      <td>Shot</td>\n",
       "      <td>Wristshot</td>\n",
       "    </tr>\n",
       "    <tr>\n",
       "      <th>419</th>\n",
       "      <td>Shot</td>\n",
       "      <td>Wristshot</td>\n",
       "    </tr>\n",
       "    <tr>\n",
       "      <th>420</th>\n",
       "      <td>Shot</td>\n",
       "      <td>Wristshot</td>\n",
       "    </tr>\n",
       "    <tr>\n",
       "      <th>421</th>\n",
       "      <td>Shot</td>\n",
       "      <td>Wristshot</td>\n",
       "    </tr>\n",
       "    <tr>\n",
       "      <th>422</th>\n",
       "      <td>Shot</td>\n",
       "      <td>Snapshot</td>\n",
       "    </tr>\n",
       "  </tbody>\n",
       "</table>\n",
       "<p>423 rows × 2 columns</p>\n",
       "</div>"
      ],
      "text/plain": [
       "    Event  Shot Type\n",
       "0    Goal  Wristshot\n",
       "1    Goal  Wristshot\n",
       "2    Goal   Snapshot\n",
       "3    Goal  Wristshot\n",
       "4    Shot   Snapshot\n",
       "..    ...        ...\n",
       "418  Shot  Wristshot\n",
       "419  Shot  Wristshot\n",
       "420  Shot  Wristshot\n",
       "421  Shot  Wristshot\n",
       "422  Shot   Snapshot\n",
       "\n",
       "[423 rows x 2 columns]"
      ]
     },
     "execution_count": 113,
     "metadata": {},
     "output_type": "execute_result"
    }
   ],
   "source": [
    "query = \"\"\"\n",
    "        SELECT Event, \"Detail 1\" AS \"Shot Type\", \n",
    "        FROM df\n",
    "        WHERE Event = 'Goal' OR Event = 'Shot'\n",
    "        \"\"\"\n",
    "\n",
    "shots_df = duckdb.sql(query).df()\n",
    "shots_df"
   ]
  },
  {
   "cell_type": "code",
   "execution_count": 114,
   "id": "eb0bcbfe-58c9-4f25-97c1-de382f7bba48",
   "metadata": {},
   "outputs": [
    {
     "data": {
      "text/plain": [
       "array(['Wristshot', 'Snapshot', 'Fan', 'Slapshot', 'Deflection',\n",
       "       'Wrap Around', 'Bat', 'Poke'], dtype=object)"
      ]
     },
     "execution_count": 114,
     "metadata": {},
     "output_type": "execute_result"
    }
   ],
   "source": [
    "shots_df['Shot Type'].unique()"
   ]
  },
  {
   "cell_type": "markdown",
   "id": "c79bd18a-afa5-4579-be49-ddb6e87c257b",
   "metadata": {},
   "source": [
    "There are 8 different types of shots: Wristshot, Snapshot, Fan, Slapshot, Deflection, Wrap Around, Bat, and Poke."
   ]
  },
  {
   "cell_type": "code",
   "execution_count": 115,
   "id": "ee3880a4-901f-4c75-ac56-64428d22b64d",
   "metadata": {},
   "outputs": [
    {
     "data": {
      "text/html": [
       "<div>\n",
       "<style scoped>\n",
       "    .dataframe tbody tr th:only-of-type {\n",
       "        vertical-align: middle;\n",
       "    }\n",
       "\n",
       "    .dataframe tbody tr th {\n",
       "        vertical-align: top;\n",
       "    }\n",
       "\n",
       "    .dataframe thead th {\n",
       "        text-align: right;\n",
       "    }\n",
       "</style>\n",
       "<table border=\"1\" class=\"dataframe\">\n",
       "  <thead>\n",
       "    <tr style=\"text-align: right;\">\n",
       "      <th></th>\n",
       "      <th>Shot Type</th>\n",
       "      <th>Total Attempted</th>\n",
       "      <th>Success</th>\n",
       "    </tr>\n",
       "  </thead>\n",
       "  <tbody>\n",
       "    <tr>\n",
       "      <th>0</th>\n",
       "      <td>Wristshot</td>\n",
       "      <td>185</td>\n",
       "      <td>9</td>\n",
       "    </tr>\n",
       "    <tr>\n",
       "      <th>1</th>\n",
       "      <td>Wrap Around</td>\n",
       "      <td>4</td>\n",
       "      <td>0</td>\n",
       "    </tr>\n",
       "    <tr>\n",
       "      <th>2</th>\n",
       "      <td>Snapshot</td>\n",
       "      <td>167</td>\n",
       "      <td>8</td>\n",
       "    </tr>\n",
       "    <tr>\n",
       "      <th>3</th>\n",
       "      <td>Poke</td>\n",
       "      <td>1</td>\n",
       "      <td>0</td>\n",
       "    </tr>\n",
       "    <tr>\n",
       "      <th>4</th>\n",
       "      <td>Slapshot</td>\n",
       "      <td>27</td>\n",
       "      <td>1</td>\n",
       "    </tr>\n",
       "    <tr>\n",
       "      <th>5</th>\n",
       "      <td>Deflection</td>\n",
       "      <td>27</td>\n",
       "      <td>2</td>\n",
       "    </tr>\n",
       "    <tr>\n",
       "      <th>6</th>\n",
       "      <td>Bat</td>\n",
       "      <td>1</td>\n",
       "      <td>0</td>\n",
       "    </tr>\n",
       "    <tr>\n",
       "      <th>7</th>\n",
       "      <td>Fan</td>\n",
       "      <td>11</td>\n",
       "      <td>0</td>\n",
       "    </tr>\n",
       "  </tbody>\n",
       "</table>\n",
       "</div>"
      ],
      "text/plain": [
       "     Shot Type  Total Attempted  Success\n",
       "0    Wristshot              185        9\n",
       "1  Wrap Around                4        0\n",
       "2     Snapshot              167        8\n",
       "3         Poke                1        0\n",
       "4     Slapshot               27        1\n",
       "5   Deflection               27        2\n",
       "6          Bat                1        0\n",
       "7          Fan               11        0"
      ]
     },
     "execution_count": 115,
     "metadata": {},
     "output_type": "execute_result"
    }
   ],
   "source": [
    "query = \"\"\"\n",
    "        SELECT \"Shot Type\", \n",
    "        COUNT(Event) AS \"Total Attempted\",\n",
    "        COUNT (CASE WHEN Event = 'Goal' THEN 1 END) AS \"Success\"\n",
    "        FROM shots_df\n",
    "        GROUP BY \"Shot Type\"\n",
    "        \"\"\"\n",
    "\n",
    "shot_type_df = duckdb.sql(query).df()\n",
    "shot_type_df"
   ]
  },
  {
   "cell_type": "code",
   "execution_count": 116,
   "id": "d7038f38-aa91-45d6-b66a-31322ee1d0f8",
   "metadata": {},
   "outputs": [
    {
     "data": {
      "text/html": [
       "<div>\n",
       "<style scoped>\n",
       "    .dataframe tbody tr th:only-of-type {\n",
       "        vertical-align: middle;\n",
       "    }\n",
       "\n",
       "    .dataframe tbody tr th {\n",
       "        vertical-align: top;\n",
       "    }\n",
       "\n",
       "    .dataframe thead th {\n",
       "        text-align: right;\n",
       "    }\n",
       "</style>\n",
       "<table border=\"1\" class=\"dataframe\">\n",
       "  <thead>\n",
       "    <tr style=\"text-align: right;\">\n",
       "      <th></th>\n",
       "      <th>Shot Type</th>\n",
       "      <th>Total Attempted</th>\n",
       "      <th>Success</th>\n",
       "      <th>Success Rate</th>\n",
       "    </tr>\n",
       "  </thead>\n",
       "  <tbody>\n",
       "    <tr>\n",
       "      <th>0</th>\n",
       "      <td>Wristshot</td>\n",
       "      <td>185</td>\n",
       "      <td>9</td>\n",
       "      <td>4.86</td>\n",
       "    </tr>\n",
       "    <tr>\n",
       "      <th>1</th>\n",
       "      <td>Wrap Around</td>\n",
       "      <td>4</td>\n",
       "      <td>0</td>\n",
       "      <td>0.00</td>\n",
       "    </tr>\n",
       "    <tr>\n",
       "      <th>2</th>\n",
       "      <td>Snapshot</td>\n",
       "      <td>167</td>\n",
       "      <td>8</td>\n",
       "      <td>4.79</td>\n",
       "    </tr>\n",
       "    <tr>\n",
       "      <th>3</th>\n",
       "      <td>Poke</td>\n",
       "      <td>1</td>\n",
       "      <td>0</td>\n",
       "      <td>0.00</td>\n",
       "    </tr>\n",
       "    <tr>\n",
       "      <th>4</th>\n",
       "      <td>Slapshot</td>\n",
       "      <td>27</td>\n",
       "      <td>1</td>\n",
       "      <td>3.70</td>\n",
       "    </tr>\n",
       "    <tr>\n",
       "      <th>5</th>\n",
       "      <td>Deflection</td>\n",
       "      <td>27</td>\n",
       "      <td>2</td>\n",
       "      <td>7.41</td>\n",
       "    </tr>\n",
       "    <tr>\n",
       "      <th>6</th>\n",
       "      <td>Bat</td>\n",
       "      <td>1</td>\n",
       "      <td>0</td>\n",
       "      <td>0.00</td>\n",
       "    </tr>\n",
       "    <tr>\n",
       "      <th>7</th>\n",
       "      <td>Fan</td>\n",
       "      <td>11</td>\n",
       "      <td>0</td>\n",
       "      <td>0.00</td>\n",
       "    </tr>\n",
       "  </tbody>\n",
       "</table>\n",
       "</div>"
      ],
      "text/plain": [
       "     Shot Type  Total Attempted  Success  Success Rate\n",
       "0    Wristshot              185        9          4.86\n",
       "1  Wrap Around                4        0          0.00\n",
       "2     Snapshot              167        8          4.79\n",
       "3         Poke                1        0          0.00\n",
       "4     Slapshot               27        1          3.70\n",
       "5   Deflection               27        2          7.41\n",
       "6          Bat                1        0          0.00\n",
       "7          Fan               11        0          0.00"
      ]
     },
     "execution_count": 116,
     "metadata": {},
     "output_type": "execute_result"
    }
   ],
   "source": [
    "shot_type_df['Success Rate'] = round((shot_type_df['Success'] / shot_type_df['Total Attempted'] ) , 4) * 100\n",
    "shot_type_df"
   ]
  },
  {
   "cell_type": "markdown",
   "id": "3ad18baa-dca7-4a58-8f53-e84bf4ab2182",
   "metadata": {},
   "source": [
    "From this data set, we can see that out of all the shots, Deflection shots have the highest success rate. To test whether this is actually true we will conduct a hypothesis test."
   ]
  },
  {
   "cell_type": "markdown",
   "id": "8ea825c1-475a-4725-9355-b192adc8979b",
   "metadata": {},
   "source": [
    "## Hypothesis Test:\n",
    "\n",
    "Null Hypothesis: All types of shots have the same chance of yielding success.\n",
    "\n",
    "Alternative Hypothesis: One type of shot has a higher chance of yielding success, in this case, a deflection shot."
   ]
  },
  {
   "cell_type": "code",
   "execution_count": 117,
   "id": "2832207e-7beb-45f6-8563-a5094d1bc771",
   "metadata": {},
   "outputs": [
    {
     "data": {
      "text/plain": [
       "0.04728132387706856"
      ]
     },
     "execution_count": 117,
     "metadata": {},
     "output_type": "execute_result"
    }
   ],
   "source": [
    "total_attempts = shot_type_df[\"Total Attempted\"].values\n",
    "successes = shot_type_df[\"Success\"].values\n",
    "\n",
    "overall_success_rate = successes.sum()/total_attempts.sum()\n",
    "overall_success_rate"
   ]
  },
  {
   "cell_type": "code",
   "execution_count": 118,
   "id": "3da3f98a-5eee-4d29-852f-bbd561b29100",
   "metadata": {},
   "outputs": [],
   "source": [
    "z_scores = []\n",
    "p_values = []\n",
    "\n",
    "\n",
    "#Z-test\n",
    "for attempts, success in zip(total_attempts, successes):\n",
    "    success_rate = success/attempts\n",
    "\n",
    "    #standard error\n",
    "    se = np.sqrt((success_rate * (1 - success_rate)) / attempts)\n",
    "\n",
    "    #z-score\n",
    "    if se == 0:\n",
    "        z = np.nan\n",
    "        p = np.nan\n",
    "    else:\n",
    "        z = (success_rate - overall_success_rate) / se\n",
    "        p = 2 * (1 - norm.cdf(np.abs(z))) \n",
    "\n",
    "    z_scores.append(z)\n",
    "    p_values.append(p) "
   ]
  },
  {
   "cell_type": "code",
   "execution_count": 119,
   "id": "34562d5f-aab1-4c11-bd4e-ec69590f0df5",
   "metadata": {},
   "outputs": [
    {
     "name": "stdout",
     "output_type": "stream",
     "text": [
      "Wristshot: p-value = 0.9311108077426082\n",
      "Wrap Around: p-value = nan\n",
      "Snapshot: p-value = 0.9699347902522513\n",
      "Poke: p-value = nan\n",
      "Slapshot: p-value = 0.7780472513035825\n",
      "Deflection: p-value = 0.5950090286606828\n",
      "Bat: p-value = nan\n",
      "Fan: p-value = nan\n"
     ]
    }
   ],
   "source": [
    "sig_shot_types = []\n",
    "for shot_type, p in zip(shot_type_df['Shot Type'], p_values):\n",
    "    print(shot_type + \": p-value = \" + str(p))\n",
    "    if p < 0.05:\n",
    "        sig_shot_types.append(shot_type)"
   ]
  },
  {
   "cell_type": "markdown",
   "id": "844887ee-86fa-43c0-9075-b4c55b9b5d08",
   "metadata": {},
   "source": [
    "Since all of the p-values are less than 0.05, or equal to nan, we cannot come to a conclusion right now. So to further analyze this, I will perform a chi-square test."
   ]
  },
  {
   "cell_type": "code",
   "execution_count": 120,
   "id": "c82b4c0c-4125-44e2-936d-27c4484d5de3",
   "metadata": {},
   "outputs": [],
   "source": [
    "#observed\n",
    "total_attempts = shot_type_df[\"Total Attempted\"].values\n",
    "successes = shot_type_df[\"Success\"].values"
   ]
  },
  {
   "cell_type": "code",
   "execution_count": 121,
   "id": "aff9ddce-ca75-4826-bdb7-832344bb6711",
   "metadata": {},
   "outputs": [],
   "source": [
    "overall_success_rate = successes.sum() / total_attempts.sum()\n",
    "#expected = np.array([[rate * overall_success_rate for rate in total_attempts]])\n",
    "\n",
    "#had to make a small adjustment to avoid getting 0 elements\n",
    "expected_successes = total_attempts * overall_success_rate\n",
    "contingency_table = np.array([successes, expected_successes])"
   ]
  },
  {
   "cell_type": "code",
   "execution_count": 122,
   "id": "ce056bad-1dcf-48f8-910c-a56103990764",
   "metadata": {},
   "outputs": [],
   "source": [
    "chi2, p, _, _ = chi2_contingency(contingency_table)"
   ]
  },
  {
   "cell_type": "code",
   "execution_count": 123,
   "id": "81c8b9be-0ae1-448c-9136-c0501d8fb5a2",
   "metadata": {},
   "outputs": [
    {
     "name": "stdout",
     "output_type": "stream",
     "text": [
      "Chi square statistic: 1.0013863559852174\n",
      "P-value: 0.9948061416640558\n"
     ]
    }
   ],
   "source": [
    "print(\"Chi square statistic: \" + str(chi2))\n",
    "print(\"P-value: \" + str(p))"
   ]
  },
  {
   "cell_type": "markdown",
   "id": "01d902b5-5c80-4f91-90c2-b0e808b7ad31",
   "metadata": {},
   "source": [
    "Given that the p-value is greater than the significance level of 0.05, we fail to reject the null hypothesis. This suggests that there is not enough evidence to conclude that there is a significant difference in success rates among the different types of shots. "
   ]
  },
  {
   "cell_type": "markdown",
   "id": "5bc35940-f8b2-4c11-99b1-badffc6befbc",
   "metadata": {},
   "source": [
    "(Measuring effect size to see if there is actually an effect of shot type).\n",
    "We will now calculate the Phi coefficient to measure the association between the success of a shot, the total number of attempts, and the type of shot. To this, we need  to construct a contingency table for each pair of variables. Since the Phi coefficient is typically used for two binary variables, we need to choose one variable as the binary variable and the other as the categorical variable.\n",
    "\n",
    "Create binary variables for \"Success\" and \"Total Attempted\".\n",
    "Create binary variables for each type of shot (e.g., \"Deflection\", \"Fan\", \"Poke\", etc.).\n",
    "Calculate the Phi coefficient for each pair of variables (Success vs. Shot Type, Total Attempted vs. Shot Type).\n"
   ]
  },
  {
   "cell_type": "code",
   "execution_count": 135,
   "id": "bc8ca79c-1e81-449a-84b7-6fc9d4360089",
   "metadata": {},
   "outputs": [],
   "source": [
    "# total_attempts = shot_type_df[\"Total Attempted\"].values\n",
    "# successes = shot_type_df[\"Success\"].values\n",
    "\n",
    "# # Determine the categories for each variable\n",
    "# success_binary = [1 if s > 0 else 0 for s in success]\n",
    "# total_attempted_binary = [1 if t > 0 else 0 for t in total_attempted]\n",
    "\n",
    "# # Create a contingency table\n",
    "# contingency_table = np.array([\n",
    "#     [sum((success_binary == 0) & (total_attempted_binary == 0)), sum((success_binary == 1) & (total_attempted_binary == 0))],\n",
    "#     [sum((success_binary == 0) & (total_attempted_binary == 1)), sum((success_binary == 1) & (total_attempted_binary == 1))]\n",
    "# ])\n",
    "\n",
    "# # Calculate the Phi coefficient\n",
    "# def phi_coefficient(contingency_table):\n",
    "#     chi2 = np.sum(contingency_table) / contingency_table.sum().sum()\n",
    "#     rows, cols = contingency_table.shape\n",
    "#     phi = np.sqrt(chi2 / (rows * cols))\n",
    "#     return phi\n",
    "\n",
    "# phi = phi_coefficient(contingency_table)\n",
    "# print(\"Phi coefficient:\", phi)"
   ]
  },
  {
   "cell_type": "code",
   "execution_count": 136,
   "id": "141cb103-1b79-430d-abbe-14bb25e09b5e",
   "metadata": {},
   "outputs": [
    {
     "ename": "KeyError",
     "evalue": "\"None of [Index(['Shot Type_Deflection', 'Shot Type_Fan', 'Shot Type_Poke',\\n       'Shot Type_Slapshot', 'Shot Type_Snapshot', 'Shot Type_Wrap Around',\\n       'Shot Type_Wristshot'],\\n      dtype='object')] are in the [columns]\"",
     "output_type": "error",
     "traceback": [
      "\u001b[0;31m---------------------------------------------------------------------------\u001b[0m",
      "\u001b[0;31mKeyError\u001b[0m                                  Traceback (most recent call last)",
      "Cell \u001b[0;32mIn[136], line 3\u001b[0m\n\u001b[1;32m      1\u001b[0m success \u001b[38;5;241m=\u001b[39m shot_type_df[\u001b[38;5;124m\"\u001b[39m\u001b[38;5;124mSuccess\u001b[39m\u001b[38;5;124m\"\u001b[39m]\u001b[38;5;241m.\u001b[39mvalues\n\u001b[1;32m      2\u001b[0m total_attempted \u001b[38;5;241m=\u001b[39m shot_type_df[\u001b[38;5;124m\"\u001b[39m\u001b[38;5;124mTotal Attempted\u001b[39m\u001b[38;5;124m\"\u001b[39m]\u001b[38;5;241m.\u001b[39mvalues\n\u001b[0;32m----> 3\u001b[0m shot_types \u001b[38;5;241m=\u001b[39m shot_type_df[[\u001b[38;5;124m'\u001b[39m\u001b[38;5;124mShot Type_Deflection\u001b[39m\u001b[38;5;124m'\u001b[39m, \u001b[38;5;124m'\u001b[39m\u001b[38;5;124mShot Type_Fan\u001b[39m\u001b[38;5;124m'\u001b[39m, \u001b[38;5;124m'\u001b[39m\u001b[38;5;124mShot Type_Poke\u001b[39m\u001b[38;5;124m'\u001b[39m, \u001b[38;5;124m'\u001b[39m\u001b[38;5;124mShot Type_Slapshot\u001b[39m\u001b[38;5;124m'\u001b[39m, \u001b[38;5;124m'\u001b[39m\u001b[38;5;124mShot Type_Snapshot\u001b[39m\u001b[38;5;124m'\u001b[39m, \u001b[38;5;124m'\u001b[39m\u001b[38;5;124mShot Type_Wrap Around\u001b[39m\u001b[38;5;124m'\u001b[39m, \u001b[38;5;124m'\u001b[39m\u001b[38;5;124mShot Type_Wristshot\u001b[39m\u001b[38;5;124m'\u001b[39m]]\u001b[38;5;241m.\u001b[39mvalues\n\u001b[1;32m      5\u001b[0m \u001b[38;5;66;03m# Convert Success and Total Attempted to binary form\u001b[39;00m\n\u001b[1;32m      6\u001b[0m success_binary \u001b[38;5;241m=\u001b[39m np\u001b[38;5;241m.\u001b[39mwhere(success \u001b[38;5;241m>\u001b[39m \u001b[38;5;241m0\u001b[39m, \u001b[38;5;241m1\u001b[39m, \u001b[38;5;241m0\u001b[39m)\n",
      "File \u001b[0;32m~/anaconda3/envs/BigDataCup/lib/python3.11/site-packages/pandas/core/frame.py:3899\u001b[0m, in \u001b[0;36mDataFrame.__getitem__\u001b[0;34m(self, key)\u001b[0m\n\u001b[1;32m   3897\u001b[0m     \u001b[38;5;28;01mif\u001b[39;00m is_iterator(key):\n\u001b[1;32m   3898\u001b[0m         key \u001b[38;5;241m=\u001b[39m \u001b[38;5;28mlist\u001b[39m(key)\n\u001b[0;32m-> 3899\u001b[0m     indexer \u001b[38;5;241m=\u001b[39m \u001b[38;5;28mself\u001b[39m\u001b[38;5;241m.\u001b[39mcolumns\u001b[38;5;241m.\u001b[39m_get_indexer_strict(key, \u001b[38;5;124m\"\u001b[39m\u001b[38;5;124mcolumns\u001b[39m\u001b[38;5;124m\"\u001b[39m)[\u001b[38;5;241m1\u001b[39m]\n\u001b[1;32m   3901\u001b[0m \u001b[38;5;66;03m# take() does not accept boolean indexers\u001b[39;00m\n\u001b[1;32m   3902\u001b[0m \u001b[38;5;28;01mif\u001b[39;00m \u001b[38;5;28mgetattr\u001b[39m(indexer, \u001b[38;5;124m\"\u001b[39m\u001b[38;5;124mdtype\u001b[39m\u001b[38;5;124m\"\u001b[39m, \u001b[38;5;28;01mNone\u001b[39;00m) \u001b[38;5;241m==\u001b[39m \u001b[38;5;28mbool\u001b[39m:\n",
      "File \u001b[0;32m~/anaconda3/envs/BigDataCup/lib/python3.11/site-packages/pandas/core/indexes/base.py:6115\u001b[0m, in \u001b[0;36mIndex._get_indexer_strict\u001b[0;34m(self, key, axis_name)\u001b[0m\n\u001b[1;32m   6112\u001b[0m \u001b[38;5;28;01melse\u001b[39;00m:\n\u001b[1;32m   6113\u001b[0m     keyarr, indexer, new_indexer \u001b[38;5;241m=\u001b[39m \u001b[38;5;28mself\u001b[39m\u001b[38;5;241m.\u001b[39m_reindex_non_unique(keyarr)\n\u001b[0;32m-> 6115\u001b[0m \u001b[38;5;28mself\u001b[39m\u001b[38;5;241m.\u001b[39m_raise_if_missing(keyarr, indexer, axis_name)\n\u001b[1;32m   6117\u001b[0m keyarr \u001b[38;5;241m=\u001b[39m \u001b[38;5;28mself\u001b[39m\u001b[38;5;241m.\u001b[39mtake(indexer)\n\u001b[1;32m   6118\u001b[0m \u001b[38;5;28;01mif\u001b[39;00m \u001b[38;5;28misinstance\u001b[39m(key, Index):\n\u001b[1;32m   6119\u001b[0m     \u001b[38;5;66;03m# GH 42790 - Preserve name from an Index\u001b[39;00m\n",
      "File \u001b[0;32m~/anaconda3/envs/BigDataCup/lib/python3.11/site-packages/pandas/core/indexes/base.py:6176\u001b[0m, in \u001b[0;36mIndex._raise_if_missing\u001b[0;34m(self, key, indexer, axis_name)\u001b[0m\n\u001b[1;32m   6174\u001b[0m     \u001b[38;5;28;01mif\u001b[39;00m use_interval_msg:\n\u001b[1;32m   6175\u001b[0m         key \u001b[38;5;241m=\u001b[39m \u001b[38;5;28mlist\u001b[39m(key)\n\u001b[0;32m-> 6176\u001b[0m     \u001b[38;5;28;01mraise\u001b[39;00m \u001b[38;5;167;01mKeyError\u001b[39;00m(\u001b[38;5;124mf\u001b[39m\u001b[38;5;124m\"\u001b[39m\u001b[38;5;124mNone of [\u001b[39m\u001b[38;5;132;01m{\u001b[39;00mkey\u001b[38;5;132;01m}\u001b[39;00m\u001b[38;5;124m] are in the [\u001b[39m\u001b[38;5;132;01m{\u001b[39;00maxis_name\u001b[38;5;132;01m}\u001b[39;00m\u001b[38;5;124m]\u001b[39m\u001b[38;5;124m\"\u001b[39m)\n\u001b[1;32m   6178\u001b[0m not_found \u001b[38;5;241m=\u001b[39m \u001b[38;5;28mlist\u001b[39m(ensure_index(key)[missing_mask\u001b[38;5;241m.\u001b[39mnonzero()[\u001b[38;5;241m0\u001b[39m]]\u001b[38;5;241m.\u001b[39munique())\n\u001b[1;32m   6179\u001b[0m \u001b[38;5;28;01mraise\u001b[39;00m \u001b[38;5;167;01mKeyError\u001b[39;00m(\u001b[38;5;124mf\u001b[39m\u001b[38;5;124m\"\u001b[39m\u001b[38;5;132;01m{\u001b[39;00mnot_found\u001b[38;5;132;01m}\u001b[39;00m\u001b[38;5;124m not in index\u001b[39m\u001b[38;5;124m\"\u001b[39m)\n",
      "\u001b[0;31mKeyError\u001b[0m: \"None of [Index(['Shot Type_Deflection', 'Shot Type_Fan', 'Shot Type_Poke',\\n       'Shot Type_Slapshot', 'Shot Type_Snapshot', 'Shot Type_Wrap Around',\\n       'Shot Type_Wristshot'],\\n      dtype='object')] are in the [columns]\""
     ]
    }
   ],
   "source": [
    "success = shot_type_df[\"Success\"].values\n",
    "total_attempted = shot_type_df[\"Total Attempted\"].values\n",
    "shot_types = shot_type_df[['Shot Type_Deflection', 'Shot Type_Fan', 'Shot Type_Poke', 'Shot Type_Slapshot', 'Shot Type_Snapshot', 'Shot Type_Wrap Around', 'Shot Type_Wristshot']].values\n",
    "\n",
    "# Convert Success and Total Attempted to binary form\n",
    "success_binary = np.where(success > 0, 1, 0)\n",
    "total_attempted_binary = np.where(total_attempted > 0, 1, 0)\n",
    "\n",
    "# Calculate Phi coefficient for Success vs. Shot Type\n",
    "phi_success_shot_type = phi_coefficient(np.corrcoef(success_binary, shot_types.T)[0, 1:])\n",
    "\n",
    "# Calculate Phi coefficient for Total Attempted vs. Shot Type\n",
    "phi_attempted_shot_type = phi_coefficient(np.corrcoef(total_attempted_binary, shot_types.T)[0, 1:])\n",
    "\n",
    "print(\"Phi coefficient for Success vs. Shot Type:\", phi_success_shot_type)\n",
    "print(\"Phi coefficient for Total Attempted vs. Shot Type:\", phi_attempted_shot_type)"
   ]
  },
  {
   "cell_type": "markdown",
   "id": "5cbcfd27-cb73-4e5f-b49f-250b072f722a",
   "metadata": {},
   "source": [
    "Since we have a Phi Coefficient of 0.5, we know that there is a moderate association between the total number of succees"
   ]
  },
  {
   "cell_type": "code",
   "execution_count": 124,
   "id": "0529b851",
   "metadata": {},
   "outputs": [
    {
     "data": {
      "text/plain": [
       "Index(['Total Attempted', 'Success', 'Success Rate', 'Shot Type_Bat',\n",
       "       'Shot Type_Deflection', 'Shot Type_Fan', 'Shot Type_Poke',\n",
       "       'Shot Type_Slapshot', 'Shot Type_Snapshot', 'Shot Type_Wrap Around',\n",
       "       'Shot Type_Wristshot'],\n",
       "      dtype='object')"
      ]
     },
     "execution_count": 124,
     "metadata": {},
     "output_type": "execute_result"
    }
   ],
   "source": [
    "dummy_df = pd.get_dummies(shot_type_df, columns=['Shot Type'])\n",
    "dummy_df.columns"
   ]
  },
  {
   "cell_type": "code",
   "execution_count": 128,
   "id": "7253e945",
   "metadata": {},
   "outputs": [
    {
     "ename": "ValueError",
     "evalue": "Pandas data cast to numpy dtype of object. Check input data with np.asarray(data).",
     "output_type": "error",
     "traceback": [
      "\u001b[0;31m---------------------------------------------------------------------------\u001b[0m",
      "\u001b[0;31mValueError\u001b[0m                                Traceback (most recent call last)",
      "Cell \u001b[0;32mIn[128], line 6\u001b[0m\n\u001b[1;32m      3\u001b[0m X \u001b[38;5;241m=\u001b[39m sm\u001b[38;5;241m.\u001b[39madd_constant(X)\n\u001b[1;32m      4\u001b[0m \u001b[38;5;66;03m# logit_model = sm.Logit(y, X)\u001b[39;00m\n\u001b[1;32m      5\u001b[0m \u001b[38;5;66;03m# result = logit_model.fit()\u001b[39;00m\n\u001b[0;32m----> 6\u001b[0m model \u001b[38;5;241m=\u001b[39m sm\u001b[38;5;241m.\u001b[39mOLS(y, X)\n\u001b[1;32m      7\u001b[0m results \u001b[38;5;241m=\u001b[39m model\u001b[38;5;241m.\u001b[39mfit()\n",
      "File \u001b[0;32m~/anaconda3/envs/BigDataCup/lib/python3.11/site-packages/statsmodels/regression/linear_model.py:922\u001b[0m, in \u001b[0;36mOLS.__init__\u001b[0;34m(self, endog, exog, missing, hasconst, **kwargs)\u001b[0m\n\u001b[1;32m    919\u001b[0m     msg \u001b[38;5;241m=\u001b[39m (\u001b[38;5;124m\"\u001b[39m\u001b[38;5;124mWeights are not supported in OLS and will be ignored\u001b[39m\u001b[38;5;124m\"\u001b[39m\n\u001b[1;32m    920\u001b[0m            \u001b[38;5;124m\"\u001b[39m\u001b[38;5;124mAn exception will be raised in the next version.\u001b[39m\u001b[38;5;124m\"\u001b[39m)\n\u001b[1;32m    921\u001b[0m     warnings\u001b[38;5;241m.\u001b[39mwarn(msg, ValueWarning)\n\u001b[0;32m--> 922\u001b[0m \u001b[38;5;28msuper\u001b[39m(OLS, \u001b[38;5;28mself\u001b[39m)\u001b[38;5;241m.\u001b[39m\u001b[38;5;21m__init__\u001b[39m(endog, exog, missing\u001b[38;5;241m=\u001b[39mmissing,\n\u001b[1;32m    923\u001b[0m                           hasconst\u001b[38;5;241m=\u001b[39mhasconst, \u001b[38;5;241m*\u001b[39m\u001b[38;5;241m*\u001b[39mkwargs)\n\u001b[1;32m    924\u001b[0m \u001b[38;5;28;01mif\u001b[39;00m \u001b[38;5;124m\"\u001b[39m\u001b[38;5;124mweights\u001b[39m\u001b[38;5;124m\"\u001b[39m \u001b[38;5;129;01min\u001b[39;00m \u001b[38;5;28mself\u001b[39m\u001b[38;5;241m.\u001b[39m_init_keys:\n\u001b[1;32m    925\u001b[0m     \u001b[38;5;28mself\u001b[39m\u001b[38;5;241m.\u001b[39m_init_keys\u001b[38;5;241m.\u001b[39mremove(\u001b[38;5;124m\"\u001b[39m\u001b[38;5;124mweights\u001b[39m\u001b[38;5;124m\"\u001b[39m)\n",
      "File \u001b[0;32m~/anaconda3/envs/BigDataCup/lib/python3.11/site-packages/statsmodels/regression/linear_model.py:748\u001b[0m, in \u001b[0;36mWLS.__init__\u001b[0;34m(self, endog, exog, weights, missing, hasconst, **kwargs)\u001b[0m\n\u001b[1;32m    746\u001b[0m \u001b[38;5;28;01melse\u001b[39;00m:\n\u001b[1;32m    747\u001b[0m     weights \u001b[38;5;241m=\u001b[39m weights\u001b[38;5;241m.\u001b[39msqueeze()\n\u001b[0;32m--> 748\u001b[0m \u001b[38;5;28msuper\u001b[39m(WLS, \u001b[38;5;28mself\u001b[39m)\u001b[38;5;241m.\u001b[39m\u001b[38;5;21m__init__\u001b[39m(endog, exog, missing\u001b[38;5;241m=\u001b[39mmissing,\n\u001b[1;32m    749\u001b[0m                           weights\u001b[38;5;241m=\u001b[39mweights, hasconst\u001b[38;5;241m=\u001b[39mhasconst, \u001b[38;5;241m*\u001b[39m\u001b[38;5;241m*\u001b[39mkwargs)\n\u001b[1;32m    750\u001b[0m nobs \u001b[38;5;241m=\u001b[39m \u001b[38;5;28mself\u001b[39m\u001b[38;5;241m.\u001b[39mexog\u001b[38;5;241m.\u001b[39mshape[\u001b[38;5;241m0\u001b[39m]\n\u001b[1;32m    751\u001b[0m weights \u001b[38;5;241m=\u001b[39m \u001b[38;5;28mself\u001b[39m\u001b[38;5;241m.\u001b[39mweights\n",
      "File \u001b[0;32m~/anaconda3/envs/BigDataCup/lib/python3.11/site-packages/statsmodels/regression/linear_model.py:202\u001b[0m, in \u001b[0;36mRegressionModel.__init__\u001b[0;34m(self, endog, exog, **kwargs)\u001b[0m\n\u001b[1;32m    201\u001b[0m \u001b[38;5;28;01mdef\u001b[39;00m \u001b[38;5;21m__init__\u001b[39m(\u001b[38;5;28mself\u001b[39m, endog, exog, \u001b[38;5;241m*\u001b[39m\u001b[38;5;241m*\u001b[39mkwargs):\n\u001b[0;32m--> 202\u001b[0m     \u001b[38;5;28msuper\u001b[39m(RegressionModel, \u001b[38;5;28mself\u001b[39m)\u001b[38;5;241m.\u001b[39m\u001b[38;5;21m__init__\u001b[39m(endog, exog, \u001b[38;5;241m*\u001b[39m\u001b[38;5;241m*\u001b[39mkwargs)\n\u001b[1;32m    203\u001b[0m     \u001b[38;5;28mself\u001b[39m\u001b[38;5;241m.\u001b[39mpinv_wexog: Float64Array \u001b[38;5;241m|\u001b[39m \u001b[38;5;28;01mNone\u001b[39;00m \u001b[38;5;241m=\u001b[39m \u001b[38;5;28;01mNone\u001b[39;00m\n\u001b[1;32m    204\u001b[0m     \u001b[38;5;28mself\u001b[39m\u001b[38;5;241m.\u001b[39m_data_attr\u001b[38;5;241m.\u001b[39mextend([\u001b[38;5;124m'\u001b[39m\u001b[38;5;124mpinv_wexog\u001b[39m\u001b[38;5;124m'\u001b[39m, \u001b[38;5;124m'\u001b[39m\u001b[38;5;124mwendog\u001b[39m\u001b[38;5;124m'\u001b[39m, \u001b[38;5;124m'\u001b[39m\u001b[38;5;124mwexog\u001b[39m\u001b[38;5;124m'\u001b[39m, \u001b[38;5;124m'\u001b[39m\u001b[38;5;124mweights\u001b[39m\u001b[38;5;124m'\u001b[39m])\n",
      "File \u001b[0;32m~/anaconda3/envs/BigDataCup/lib/python3.11/site-packages/statsmodels/base/model.py:270\u001b[0m, in \u001b[0;36mLikelihoodModel.__init__\u001b[0;34m(self, endog, exog, **kwargs)\u001b[0m\n\u001b[1;32m    269\u001b[0m \u001b[38;5;28;01mdef\u001b[39;00m \u001b[38;5;21m__init__\u001b[39m(\u001b[38;5;28mself\u001b[39m, endog, exog\u001b[38;5;241m=\u001b[39m\u001b[38;5;28;01mNone\u001b[39;00m, \u001b[38;5;241m*\u001b[39m\u001b[38;5;241m*\u001b[39mkwargs):\n\u001b[0;32m--> 270\u001b[0m     \u001b[38;5;28msuper\u001b[39m()\u001b[38;5;241m.\u001b[39m\u001b[38;5;21m__init__\u001b[39m(endog, exog, \u001b[38;5;241m*\u001b[39m\u001b[38;5;241m*\u001b[39mkwargs)\n\u001b[1;32m    271\u001b[0m     \u001b[38;5;28mself\u001b[39m\u001b[38;5;241m.\u001b[39minitialize()\n",
      "File \u001b[0;32m~/anaconda3/envs/BigDataCup/lib/python3.11/site-packages/statsmodels/base/model.py:95\u001b[0m, in \u001b[0;36mModel.__init__\u001b[0;34m(self, endog, exog, **kwargs)\u001b[0m\n\u001b[1;32m     93\u001b[0m missing \u001b[38;5;241m=\u001b[39m kwargs\u001b[38;5;241m.\u001b[39mpop(\u001b[38;5;124m'\u001b[39m\u001b[38;5;124mmissing\u001b[39m\u001b[38;5;124m'\u001b[39m, \u001b[38;5;124m'\u001b[39m\u001b[38;5;124mnone\u001b[39m\u001b[38;5;124m'\u001b[39m)\n\u001b[1;32m     94\u001b[0m hasconst \u001b[38;5;241m=\u001b[39m kwargs\u001b[38;5;241m.\u001b[39mpop(\u001b[38;5;124m'\u001b[39m\u001b[38;5;124mhasconst\u001b[39m\u001b[38;5;124m'\u001b[39m, \u001b[38;5;28;01mNone\u001b[39;00m)\n\u001b[0;32m---> 95\u001b[0m \u001b[38;5;28mself\u001b[39m\u001b[38;5;241m.\u001b[39mdata \u001b[38;5;241m=\u001b[39m \u001b[38;5;28mself\u001b[39m\u001b[38;5;241m.\u001b[39m_handle_data(endog, exog, missing, hasconst,\n\u001b[1;32m     96\u001b[0m                               \u001b[38;5;241m*\u001b[39m\u001b[38;5;241m*\u001b[39mkwargs)\n\u001b[1;32m     97\u001b[0m \u001b[38;5;28mself\u001b[39m\u001b[38;5;241m.\u001b[39mk_constant \u001b[38;5;241m=\u001b[39m \u001b[38;5;28mself\u001b[39m\u001b[38;5;241m.\u001b[39mdata\u001b[38;5;241m.\u001b[39mk_constant\n\u001b[1;32m     98\u001b[0m \u001b[38;5;28mself\u001b[39m\u001b[38;5;241m.\u001b[39mexog \u001b[38;5;241m=\u001b[39m \u001b[38;5;28mself\u001b[39m\u001b[38;5;241m.\u001b[39mdata\u001b[38;5;241m.\u001b[39mexog\n",
      "File \u001b[0;32m~/anaconda3/envs/BigDataCup/lib/python3.11/site-packages/statsmodels/base/model.py:135\u001b[0m, in \u001b[0;36mModel._handle_data\u001b[0;34m(self, endog, exog, missing, hasconst, **kwargs)\u001b[0m\n\u001b[1;32m    134\u001b[0m \u001b[38;5;28;01mdef\u001b[39;00m \u001b[38;5;21m_handle_data\u001b[39m(\u001b[38;5;28mself\u001b[39m, endog, exog, missing, hasconst, \u001b[38;5;241m*\u001b[39m\u001b[38;5;241m*\u001b[39mkwargs):\n\u001b[0;32m--> 135\u001b[0m     data \u001b[38;5;241m=\u001b[39m handle_data(endog, exog, missing, hasconst, \u001b[38;5;241m*\u001b[39m\u001b[38;5;241m*\u001b[39mkwargs)\n\u001b[1;32m    136\u001b[0m     \u001b[38;5;66;03m# kwargs arrays could have changed, easier to just attach here\u001b[39;00m\n\u001b[1;32m    137\u001b[0m     \u001b[38;5;28;01mfor\u001b[39;00m key \u001b[38;5;129;01min\u001b[39;00m kwargs:\n",
      "File \u001b[0;32m~/anaconda3/envs/BigDataCup/lib/python3.11/site-packages/statsmodels/base/data.py:675\u001b[0m, in \u001b[0;36mhandle_data\u001b[0;34m(endog, exog, missing, hasconst, **kwargs)\u001b[0m\n\u001b[1;32m    672\u001b[0m     exog \u001b[38;5;241m=\u001b[39m np\u001b[38;5;241m.\u001b[39masarray(exog)\n\u001b[1;32m    674\u001b[0m klass \u001b[38;5;241m=\u001b[39m handle_data_class_factory(endog, exog)\n\u001b[0;32m--> 675\u001b[0m \u001b[38;5;28;01mreturn\u001b[39;00m klass(endog, exog\u001b[38;5;241m=\u001b[39mexog, missing\u001b[38;5;241m=\u001b[39mmissing, hasconst\u001b[38;5;241m=\u001b[39mhasconst,\n\u001b[1;32m    676\u001b[0m              \u001b[38;5;241m*\u001b[39m\u001b[38;5;241m*\u001b[39mkwargs)\n",
      "File \u001b[0;32m~/anaconda3/envs/BigDataCup/lib/python3.11/site-packages/statsmodels/base/data.py:84\u001b[0m, in \u001b[0;36mModelData.__init__\u001b[0;34m(self, endog, exog, missing, hasconst, **kwargs)\u001b[0m\n\u001b[1;32m     82\u001b[0m     \u001b[38;5;28mself\u001b[39m\u001b[38;5;241m.\u001b[39morig_endog \u001b[38;5;241m=\u001b[39m endog\n\u001b[1;32m     83\u001b[0m     \u001b[38;5;28mself\u001b[39m\u001b[38;5;241m.\u001b[39morig_exog \u001b[38;5;241m=\u001b[39m exog\n\u001b[0;32m---> 84\u001b[0m     \u001b[38;5;28mself\u001b[39m\u001b[38;5;241m.\u001b[39mendog, \u001b[38;5;28mself\u001b[39m\u001b[38;5;241m.\u001b[39mexog \u001b[38;5;241m=\u001b[39m \u001b[38;5;28mself\u001b[39m\u001b[38;5;241m.\u001b[39m_convert_endog_exog(endog, exog)\n\u001b[1;32m     86\u001b[0m \u001b[38;5;28mself\u001b[39m\u001b[38;5;241m.\u001b[39mconst_idx \u001b[38;5;241m=\u001b[39m \u001b[38;5;28;01mNone\u001b[39;00m\n\u001b[1;32m     87\u001b[0m \u001b[38;5;28mself\u001b[39m\u001b[38;5;241m.\u001b[39mk_constant \u001b[38;5;241m=\u001b[39m \u001b[38;5;241m0\u001b[39m\n",
      "File \u001b[0;32m~/anaconda3/envs/BigDataCup/lib/python3.11/site-packages/statsmodels/base/data.py:509\u001b[0m, in \u001b[0;36mPandasData._convert_endog_exog\u001b[0;34m(self, endog, exog)\u001b[0m\n\u001b[1;32m    507\u001b[0m exog \u001b[38;5;241m=\u001b[39m exog \u001b[38;5;28;01mif\u001b[39;00m exog \u001b[38;5;129;01mis\u001b[39;00m \u001b[38;5;28;01mNone\u001b[39;00m \u001b[38;5;28;01melse\u001b[39;00m np\u001b[38;5;241m.\u001b[39masarray(exog)\n\u001b[1;32m    508\u001b[0m \u001b[38;5;28;01mif\u001b[39;00m endog\u001b[38;5;241m.\u001b[39mdtype \u001b[38;5;241m==\u001b[39m \u001b[38;5;28mobject\u001b[39m \u001b[38;5;129;01mor\u001b[39;00m exog \u001b[38;5;129;01mis\u001b[39;00m \u001b[38;5;129;01mnot\u001b[39;00m \u001b[38;5;28;01mNone\u001b[39;00m \u001b[38;5;129;01mand\u001b[39;00m exog\u001b[38;5;241m.\u001b[39mdtype \u001b[38;5;241m==\u001b[39m \u001b[38;5;28mobject\u001b[39m:\n\u001b[0;32m--> 509\u001b[0m     \u001b[38;5;28;01mraise\u001b[39;00m \u001b[38;5;167;01mValueError\u001b[39;00m(\u001b[38;5;124m\"\u001b[39m\u001b[38;5;124mPandas data cast to numpy dtype of object. \u001b[39m\u001b[38;5;124m\"\u001b[39m\n\u001b[1;32m    510\u001b[0m                      \u001b[38;5;124m\"\u001b[39m\u001b[38;5;124mCheck input data with np.asarray(data).\u001b[39m\u001b[38;5;124m\"\u001b[39m)\n\u001b[1;32m    511\u001b[0m \u001b[38;5;28;01mreturn\u001b[39;00m \u001b[38;5;28msuper\u001b[39m(PandasData, \u001b[38;5;28mself\u001b[39m)\u001b[38;5;241m.\u001b[39m_convert_endog_exog(endog, exog)\n",
      "\u001b[0;31mValueError\u001b[0m: Pandas data cast to numpy dtype of object. Check input data with np.asarray(data)."
     ]
    }
   ],
   "source": [
    "X = df_dummy\n",
    "y = shot_type_df['Success']\n",
    "X = sm.add_constant(X)\n",
    "# logit_model = sm.Logit(y, X)\n",
    "# result = logit_model.fit()\n",
    "model = sm.OLS(y, X)\n",
    "results = model.fit()\n",
    "#print(results.summary())\n"
   ]
  },
  {
   "cell_type": "code",
   "execution_count": null,
   "id": "c4a3bdff-a273-4b01-a431-1ee382878c2d",
   "metadata": {},
   "outputs": [],
   "source": [
    "# reg_exp = 'Success_Rate ~ `Shot Type_Bat` + `Shot Type_Deflection` + `Shot Type_Fan` + `Shot Type_Poke` + `Shot Type_Slapshot` + `Shot Type_Snapshot` + `Shot Type_Wrap Around` + `Shot Type_Wristshot`'\n",
    "# olsr_model = sfm.ols(formula=reg_exp, data=dummy_df)\n",
    "# olsr_model_results = olsr_model.fit()\n",
    "# print(olsr_model_results.summary())"
   ]
  }
 ],
 "metadata": {
  "kernelspec": {
   "display_name": "Python 3 (ipykernel)",
   "language": "python",
   "name": "python3"
  },
  "language_info": {
   "codemirror_mode": {
    "name": "ipython",
    "version": 3
   },
   "file_extension": ".py",
   "mimetype": "text/x-python",
   "name": "python",
   "nbconvert_exporter": "python",
   "pygments_lexer": "ipython3",
   "version": "3.11.7"
  }
 },
 "nbformat": 4,
 "nbformat_minor": 5
}
