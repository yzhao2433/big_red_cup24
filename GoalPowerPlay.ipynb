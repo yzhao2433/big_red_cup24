{
 "cells": [
  {
   "cell_type": "code",
   "execution_count": null,
   "metadata": {},
   "outputs": [],
   "source": [
    "import numpy as np\n",
    "import duckdb\n",
    "import pandas as pd\n",
    "import seaborn as sns\n",
    "import math\n",
    "import statsmodels.api as sm\n",
    "import matplotlib.pyplot as plt\n",
    "from sklearn.linear_model import LogisticRegression\n",
    "from sklearn.model_selection import train_test_split\n",
    "from sklearn.metrics import precision_score, recall_score, f1_score"
   ]
  },
  {
   "cell_type": "markdown",
   "metadata": {},
   "source": [
    "# Focus Question: How does power plays influence the success of goals?\n",
    "To prepare for this bigger question, we modeled each variable to the success of a goal. With this we look to reduce the amount of variables and eliminate less significant covariates and complexity of our final model. \n",
    "\n",
    "Below are the links to our code where we ran simple logistic models to analyze each individual factor (Player, Distance to Goal, Shot Type, Traffic, One-Timer) as a relation to whether or not the goal was successful.\n",
    "- (Goal Success ~ Shot Type) https://github.com/yzhao2433/big_red_cup24/blob/c64afef55fd60b63b5fa5b9ee8f21059a5493467/Type%20of%20Shots%20and%20Success%20Rates.ipynb"
   ]
  },
  {
   "cell_type": "code",
   "execution_count": null,
   "metadata": {},
   "outputs": [],
   "source": []
  }
 ],
 "metadata": {
  "language_info": {
   "name": "python"
  }
 },
 "nbformat": 4,
 "nbformat_minor": 2
}
