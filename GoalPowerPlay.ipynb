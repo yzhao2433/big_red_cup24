{
 "cells": [
  {
   "cell_type": "code",
   "execution_count": 2,
   "metadata": {},
   "outputs": [],
   "source": [
    "import numpy as np\n",
    "import duckdb\n",
    "import pandas as pd\n",
    "import seaborn as sns\n",
    "import math\n",
    "import statsmodels.api as sm\n",
    "import matplotlib.pyplot as plt\n",
    "from sklearn.linear_model import LogisticRegression\n",
    "from sklearn.model_selection import train_test_split\n",
    "from sklearn.metrics import precision_score, recall_score, f1_score"
   ]
  },
  {
   "cell_type": "code",
   "execution_count": 3,
   "metadata": {},
   "outputs": [],
   "source": [
    "data = pd.read_csv('BDC_2024_Womens_Data.csv')"
   ]
  },
  {
   "cell_type": "markdown",
   "metadata": {},
   "source": [
    "# Focus Question: How does power plays influence the success of goals?\n",
    "To prepare for this bigger question, we modeled each variable to the success of a goal. With this we look to reduce the amount of variables and eliminate less significant covariates and complexity of our final model. \n",
    "\n",
    "Below are the links to our code where we ran simple logistic models to analyze each individual factor (Player, Distance to Goal, Shot Type, Traffic, One-Timer) as a relation to whether or not the goal was successful."
   ]
  },
  {
   "cell_type": "code",
   "execution_count": 7,
   "metadata": {},
   "outputs": [
    {
     "name": "stdout",
     "output_type": "stream",
     "text": [
      "Deflection     0.072377\n",
      "Fan            1.000000\n",
      "Poke           1.000000\n",
      "Slapshot       0.368292\n",
      "Snapshot       0.003964\n",
      "Wrap Around    1.000000\n",
      "Wristshot      0.002089\n",
      "dtype: float64\n",
      "The coefficient for snapshot is 0.04790419161676644\n",
      "The coefficient for wristshot is 0.048648648648648624\n"
     ]
    }
   ],
   "source": [
    "query = \"\"\"\n",
    "        SELECT Event, \"Detail 1\" AS \"Shot Type\", \n",
    "        FROM data\n",
    "        WHERE Event = 'Goal' OR Event = 'Shot'\n",
    "        \"\"\"\n",
    "shots_df = duckdb.sql(query).df()\n",
    "shots_df\n",
    "\n",
    "shot_dummies = pd.get_dummies(shots_df[\"Shot Type\"], drop_first = True)\n",
    "shot_df = pd.concat([shots_df, shot_dummies], axis = 1)\n",
    "\n",
    "# Conversion of the booleans into integer to use as binary variable\n",
    "shot_df[\"Deflection\"].replace({False: 0, True: 1}, inplace=True)\n",
    "shot_df[\"Fan\"].replace({False: 0, True: 1}, inplace=True)\n",
    "shot_df[\"Poke\"].replace({False: 0, True: 1}, inplace=True)\n",
    "shot_df[\"Slapshot\"].replace({False: 0, True: 1}, inplace=True)\n",
    "shot_df[\"Snapshot\"].replace({False: 0, True: 1}, inplace=True)\n",
    "shot_df[\"Wrap Around\"].replace({False: 0, True: 1}, inplace=True)\n",
    "shot_df[\"Wristshot\"].replace({False: 0, True: 1}, inplace=True)\n",
    "shot_df[\"Event\"].replace({\"Shot\": 0, \"Goal\": 1}, inplace=True)\n",
    "\n",
    "shot_x = shot_df[shot_df.columns.difference(['Event', 'Shot Type'])]\n",
    "goal_y = shot_df[\"Event\"]\n",
    "\n",
    "lm_goal = sm.OLS(endog = goal_y, exog = shot_x).fit()\n",
    "\n",
    "print (lm_goal.pvalues)\n",
    "# We can see here that the significant shot types are snapshot and wristshot. \n",
    "print (\"The coefficient for snapshot is\", lm_goal.params[4])\n",
    "print (\"The coefficient for wristshot is\", lm_goal.params[6])\n",
    "# However, th"
   ]
  },
  {
   "cell_type": "code",
   "execution_count": null,
   "metadata": {},
   "outputs": [],
   "source": []
  }
 ],
 "metadata": {
  "kernelspec": {
   "display_name": "info2950",
   "language": "python",
   "name": "python3"
  },
  "language_info": {
   "codemirror_mode": {
    "name": "ipython",
    "version": 3
   },
   "file_extension": ".py",
   "mimetype": "text/x-python",
   "name": "python",
   "nbconvert_exporter": "python",
   "pygments_lexer": "ipython3",
   "version": "3.11.4"
  }
 },
 "nbformat": 4,
 "nbformat_minor": 2
}
