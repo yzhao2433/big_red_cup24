{
 "cells": [
  {
   "cell_type": "code",
   "execution_count": 2,
   "id": "ac2e6b60",
   "metadata": {},
   "outputs": [],
   "source": [
    "import numpy as np\n",
    "import duckdb\n",
    "import pandas as pd"
   ]
  },
  {
   "cell_type": "code",
   "execution_count": 3,
   "id": "0b83daf3",
   "metadata": {},
   "outputs": [],
   "source": [
    "data = pd.read_csv(\"BDC_2024_Womens_Data.csv\")"
   ]
  },
  {
   "cell_type": "code",
   "execution_count": 5,
   "id": "62a58262",
   "metadata": {},
   "outputs": [
    {
     "data": {
      "text/plain": [
       "Index(['Date', 'Home Team', 'Away Team', 'Period', 'Clock',\n",
       "       'Home Team Skaters', 'Away Team Skaters', 'Home Team Goals',\n",
       "       'Away Team Goals', 'Team', 'Player', 'Event', 'X Coordinate',\n",
       "       'Y Coordinate', 'Detail 1', 'Detail 2', 'Detail 3', 'Detail 4',\n",
       "       'Player 2', 'X Coordinate 2', 'Y Coordinate 2'],\n",
       "      dtype='object')"
      ]
     },
     "execution_count": 5,
     "metadata": {},
     "output_type": "execute_result"
    }
   ],
   "source": [
    "data.columns"
   ]
  },
  {
   "cell_type": "code",
   "execution_count": 15,
   "id": "49b65700",
   "metadata": {},
   "outputs": [],
   "source": [
    "shot_attempts = duckdb.sql(\"\"\"\n",
    "                            SELECT Player, COUNT(Event)\n",
    "                            FROM data\n",
    "                            WHERE Event = 'Goal' OR Event = 'Shot'\n",
    "                            GROUP BY Player\"\"\")"
   ]
  },
  {
   "cell_type": "code",
   "execution_count": 16,
   "id": "0d996b3f",
   "metadata": {},
   "outputs": [
    {
     "data": {
      "text/plain": [
       "┌─────────────────────┬────────────────┐\n",
       "│       Player        │ count(\"Event\") │\n",
       "│       varchar       │     int64      │\n",
       "├─────────────────────┼────────────────┤\n",
       "│ Hilary Knight       │             16 │\n",
       "│ Brianne Jenner      │             21 │\n",
       "│ Taylor Heise        │             16 │\n",
       "│ Alex Carpenter      │             15 │\n",
       "│ Megan Keller        │             14 │\n",
       "│ Grace Zumwinkle     │              3 │\n",
       "│ Marie-Philip Poulin │             16 │\n",
       "│ Renata Fast         │             20 │\n",
       "│ Jocelyne Larocque   │             16 │\n",
       "│ Hannah Bilka        │             12 │\n",
       "│     ·               │              · │\n",
       "│     ·               │              · │\n",
       "│     ·               │              · │\n",
       "│ Lacey Eden          │              7 │\n",
       "│ Nicole Gosling      │              4 │\n",
       "│ Kirsten Simms       │              7 │\n",
       "│ Caroline Harvey     │              5 │\n",
       "│ Ashton Bell         │              3 │\n",
       "│ Jennifer Gardiner   │              2 │\n",
       "│ Loren Gabel         │              5 │\n",
       "│ Anna Wilgren        │              1 │\n",
       "│ Anne Cherkowski     │              2 │\n",
       "│ Allyson Simpson     │              6 │\n",
       "├─────────────────────┴────────────────┤\n",
       "│ 46 rows (20 shown)         2 columns │\n",
       "└──────────────────────────────────────┘"
      ]
     },
     "execution_count": 16,
     "metadata": {},
     "output_type": "execute_result"
    }
   ],
   "source": [
    "shot_attempts"
   ]
  },
  {
   "cell_type": "code",
   "execution_count": null,
   "id": "98ae0bb3",
   "metadata": {},
   "outputs": [],
   "source": []
  }
 ],
 "metadata": {
  "kernelspec": {
   "display_name": "Python 3 (ipykernel)",
   "language": "python",
   "name": "python3"
  },
  "language_info": {
   "codemirror_mode": {
    "name": "ipython",
    "version": 3
   },
   "file_extension": ".py",
   "mimetype": "text/x-python",
   "name": "python",
   "nbconvert_exporter": "python",
   "pygments_lexer": "ipython3",
   "version": "3.11.4"
  }
 },
 "nbformat": 4,
 "nbformat_minor": 5
}
