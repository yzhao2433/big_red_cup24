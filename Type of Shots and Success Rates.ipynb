{
 "cells": [
  {
   "cell_type": "code",
   "execution_count": 201,
   "id": "9eee8289-f516-48fc-81d7-539cfc762c64",
   "metadata": {},
   "outputs": [],
   "source": [
    "import numpy as np\n",
    "import duckdb\n",
    "import pandas as pd\n",
    "#import seaborn as sns\n",
    "import statsmodels.formula.api as sfm\n",
    "import statsmodels.api as sm\n",
    "from sklearn.linear_model import LogisticRegression\n",
    "from scipy.stats import chi2_contingency\n",
    "from scipy.stats import norm\n",
    "import matplotlib.pyplot as plt"
   ]
  },
  {
   "cell_type": "markdown",
   "id": "93b37ae5-bbef-4b1e-acfa-9d45f0041217",
   "metadata": {},
   "source": [
    "# What type of shots yield more success?"
   ]
  },
  {
   "cell_type": "markdown",
   "id": "0525e65f-71b3-4a70-a9d0-2b2772671f7a",
   "metadata": {},
   "source": [
    "There are many different types of shots that a hockey player can play, however some type of shots might have a greater success rate than others in making a goal."
   ]
  },
  {
   "cell_type": "code",
   "execution_count": 146,
   "id": "250a7c2f-98cc-434a-a683-66b4bb1e2322",
   "metadata": {},
   "outputs": [],
   "source": [
    "df = pd.read_csv('BDC_2024_Womens_Data.csv')"
   ]
  },
  {
   "cell_type": "code",
   "execution_count": 147,
   "id": "75edbd20-d1d0-429f-808d-3ec66aeb52f2",
   "metadata": {},
   "outputs": [
    {
     "data": {
      "text/plain": [
       "Index(['Date', 'Home Team', 'Away Team', 'Period', 'Clock',\n",
       "       'Home Team Skaters', 'Away Team Skaters', 'Home Team Goals',\n",
       "       'Away Team Goals', 'Team', 'Player', 'Event', 'X Coordinate',\n",
       "       'Y Coordinate', 'Detail 1', 'Detail 2', 'Detail 3', 'Detail 4',\n",
       "       'Player 2', 'X Coordinate 2', 'Y Coordinate 2'],\n",
       "      dtype='object')"
      ]
     },
     "execution_count": 147,
     "metadata": {},
     "output_type": "execute_result"
    }
   ],
   "source": [
    "df.columns"
   ]
  },
  {
   "cell_type": "code",
   "execution_count": 148,
   "id": "0ce94b4c-99e2-4032-b56e-ffccef7c2709",
   "metadata": {},
   "outputs": [
    {
     "data": {
      "text/html": [
       "<div>\n",
       "<style scoped>\n",
       "    .dataframe tbody tr th:only-of-type {\n",
       "        vertical-align: middle;\n",
       "    }\n",
       "\n",
       "    .dataframe tbody tr th {\n",
       "        vertical-align: top;\n",
       "    }\n",
       "\n",
       "    .dataframe thead th {\n",
       "        text-align: right;\n",
       "    }\n",
       "</style>\n",
       "<table border=\"1\" class=\"dataframe\">\n",
       "  <thead>\n",
       "    <tr style=\"text-align: right;\">\n",
       "      <th></th>\n",
       "      <th>Event</th>\n",
       "      <th>Shot Type</th>\n",
       "    </tr>\n",
       "  </thead>\n",
       "  <tbody>\n",
       "    <tr>\n",
       "      <th>0</th>\n",
       "      <td>Goal</td>\n",
       "      <td>Wristshot</td>\n",
       "    </tr>\n",
       "    <tr>\n",
       "      <th>1</th>\n",
       "      <td>Goal</td>\n",
       "      <td>Wristshot</td>\n",
       "    </tr>\n",
       "    <tr>\n",
       "      <th>2</th>\n",
       "      <td>Goal</td>\n",
       "      <td>Snapshot</td>\n",
       "    </tr>\n",
       "    <tr>\n",
       "      <th>3</th>\n",
       "      <td>Goal</td>\n",
       "      <td>Wristshot</td>\n",
       "    </tr>\n",
       "    <tr>\n",
       "      <th>4</th>\n",
       "      <td>Shot</td>\n",
       "      <td>Snapshot</td>\n",
       "    </tr>\n",
       "    <tr>\n",
       "      <th>...</th>\n",
       "      <td>...</td>\n",
       "      <td>...</td>\n",
       "    </tr>\n",
       "    <tr>\n",
       "      <th>418</th>\n",
       "      <td>Shot</td>\n",
       "      <td>Wristshot</td>\n",
       "    </tr>\n",
       "    <tr>\n",
       "      <th>419</th>\n",
       "      <td>Shot</td>\n",
       "      <td>Wristshot</td>\n",
       "    </tr>\n",
       "    <tr>\n",
       "      <th>420</th>\n",
       "      <td>Shot</td>\n",
       "      <td>Wristshot</td>\n",
       "    </tr>\n",
       "    <tr>\n",
       "      <th>421</th>\n",
       "      <td>Shot</td>\n",
       "      <td>Wristshot</td>\n",
       "    </tr>\n",
       "    <tr>\n",
       "      <th>422</th>\n",
       "      <td>Shot</td>\n",
       "      <td>Snapshot</td>\n",
       "    </tr>\n",
       "  </tbody>\n",
       "</table>\n",
       "<p>423 rows × 2 columns</p>\n",
       "</div>"
      ],
      "text/plain": [
       "    Event  Shot Type\n",
       "0    Goal  Wristshot\n",
       "1    Goal  Wristshot\n",
       "2    Goal   Snapshot\n",
       "3    Goal  Wristshot\n",
       "4    Shot   Snapshot\n",
       "..    ...        ...\n",
       "418  Shot  Wristshot\n",
       "419  Shot  Wristshot\n",
       "420  Shot  Wristshot\n",
       "421  Shot  Wristshot\n",
       "422  Shot   Snapshot\n",
       "\n",
       "[423 rows x 2 columns]"
      ]
     },
     "execution_count": 148,
     "metadata": {},
     "output_type": "execute_result"
    }
   ],
   "source": [
    "query = \"\"\"\n",
    "        SELECT Event, \"Detail 1\" AS \"Shot Type\", \n",
    "        FROM df\n",
    "        WHERE Event = 'Goal' OR Event = 'Shot'\n",
    "        \"\"\"\n",
    "shots_df = duckdb.sql(query).df()\n",
    "shots_df"
   ]
  },
  {
   "cell_type": "code",
   "execution_count": 149,
   "id": "eb0bcbfe-58c9-4f25-97c1-de382f7bba48",
   "metadata": {},
   "outputs": [
    {
     "data": {
      "text/plain": [
       "array(['Wristshot', 'Snapshot', 'Fan', 'Slapshot', 'Deflection',\n",
       "       'Wrap Around', 'Bat', 'Poke'], dtype=object)"
      ]
     },
     "execution_count": 149,
     "metadata": {},
     "output_type": "execute_result"
    }
   ],
   "source": [
    "shots_df['Shot Type'].unique()"
   ]
  },
  {
   "cell_type": "markdown",
   "id": "c79bd18a-afa5-4579-be49-ddb6e87c257b",
   "metadata": {},
   "source": [
    "There are 8 different types of shots: Wristshot, Snapshot, Fan, Slapshot, Deflection, Wrap Around, Bat, and Poke."
   ]
  },
  {
   "cell_type": "code",
   "execution_count": 166,
   "id": "ee3880a4-901f-4c75-ac56-64428d22b64d",
   "metadata": {},
   "outputs": [
    {
     "data": {
      "text/html": [
       "<div>\n",
       "<style scoped>\n",
       "    .dataframe tbody tr th:only-of-type {\n",
       "        vertical-align: middle;\n",
       "    }\n",
       "\n",
       "    .dataframe tbody tr th {\n",
       "        vertical-align: top;\n",
       "    }\n",
       "\n",
       "    .dataframe thead th {\n",
       "        text-align: right;\n",
       "    }\n",
       "</style>\n",
       "<table border=\"1\" class=\"dataframe\">\n",
       "  <thead>\n",
       "    <tr style=\"text-align: right;\">\n",
       "      <th></th>\n",
       "      <th>Shot Type</th>\n",
       "      <th>Total Attempted</th>\n",
       "      <th>Success</th>\n",
       "    </tr>\n",
       "  </thead>\n",
       "  <tbody>\n",
       "    <tr>\n",
       "      <th>0</th>\n",
       "      <td>Snapshot</td>\n",
       "      <td>167</td>\n",
       "      <td>8</td>\n",
       "    </tr>\n",
       "    <tr>\n",
       "      <th>1</th>\n",
       "      <td>Poke</td>\n",
       "      <td>1</td>\n",
       "      <td>0</td>\n",
       "    </tr>\n",
       "    <tr>\n",
       "      <th>2</th>\n",
       "      <td>Slapshot</td>\n",
       "      <td>27</td>\n",
       "      <td>1</td>\n",
       "    </tr>\n",
       "    <tr>\n",
       "      <th>3</th>\n",
       "      <td>Deflection</td>\n",
       "      <td>27</td>\n",
       "      <td>2</td>\n",
       "    </tr>\n",
       "    <tr>\n",
       "      <th>4</th>\n",
       "      <td>Bat</td>\n",
       "      <td>1</td>\n",
       "      <td>0</td>\n",
       "    </tr>\n",
       "    <tr>\n",
       "      <th>5</th>\n",
       "      <td>Wristshot</td>\n",
       "      <td>185</td>\n",
       "      <td>9</td>\n",
       "    </tr>\n",
       "    <tr>\n",
       "      <th>6</th>\n",
       "      <td>Wrap Around</td>\n",
       "      <td>4</td>\n",
       "      <td>0</td>\n",
       "    </tr>\n",
       "    <tr>\n",
       "      <th>7</th>\n",
       "      <td>Fan</td>\n",
       "      <td>11</td>\n",
       "      <td>0</td>\n",
       "    </tr>\n",
       "  </tbody>\n",
       "</table>\n",
       "</div>"
      ],
      "text/plain": [
       "     Shot Type  Total Attempted  Success\n",
       "0     Snapshot              167        8\n",
       "1         Poke                1        0\n",
       "2     Slapshot               27        1\n",
       "3   Deflection               27        2\n",
       "4          Bat                1        0\n",
       "5    Wristshot              185        9\n",
       "6  Wrap Around                4        0\n",
       "7          Fan               11        0"
      ]
     },
     "execution_count": 166,
     "metadata": {},
     "output_type": "execute_result"
    }
   ],
   "source": [
    "query = \"\"\"\n",
    "        SELECT \"Shot Type\", \n",
    "        COUNT(Event) AS \"Total Attempted\",\n",
    "        COUNT (CASE WHEN Event = 'Goal' THEN 1 END) AS \"Success\"\n",
    "        FROM shots_df\n",
    "        GROUP BY \"Shot Type\"\n",
    "        \"\"\"\n",
    "\n",
    "df = duckdb.sql(query).df()\n",
    "df"
   ]
  },
  {
   "cell_type": "code",
   "execution_count": 170,
   "id": "d7038f38-aa91-45d6-b66a-31322ee1d0f8",
   "metadata": {},
   "outputs": [
    {
     "data": {
      "text/html": [
       "<div>\n",
       "<style scoped>\n",
       "    .dataframe tbody tr th:only-of-type {\n",
       "        vertical-align: middle;\n",
       "    }\n",
       "\n",
       "    .dataframe tbody tr th {\n",
       "        vertical-align: top;\n",
       "    }\n",
       "\n",
       "    .dataframe thead th {\n",
       "        text-align: right;\n",
       "    }\n",
       "</style>\n",
       "<table border=\"1\" class=\"dataframe\">\n",
       "  <thead>\n",
       "    <tr style=\"text-align: right;\">\n",
       "      <th></th>\n",
       "      <th>Shot Type</th>\n",
       "      <th>Total Attempted</th>\n",
       "      <th>Success</th>\n",
       "      <th>Success Rate</th>\n",
       "    </tr>\n",
       "  </thead>\n",
       "  <tbody>\n",
       "    <tr>\n",
       "      <th>0</th>\n",
       "      <td>Snapshot</td>\n",
       "      <td>167</td>\n",
       "      <td>8</td>\n",
       "      <td>4.79</td>\n",
       "    </tr>\n",
       "    <tr>\n",
       "      <th>1</th>\n",
       "      <td>Poke</td>\n",
       "      <td>1</td>\n",
       "      <td>0</td>\n",
       "      <td>0.00</td>\n",
       "    </tr>\n",
       "    <tr>\n",
       "      <th>2</th>\n",
       "      <td>Slapshot</td>\n",
       "      <td>27</td>\n",
       "      <td>1</td>\n",
       "      <td>3.70</td>\n",
       "    </tr>\n",
       "    <tr>\n",
       "      <th>3</th>\n",
       "      <td>Deflection</td>\n",
       "      <td>27</td>\n",
       "      <td>2</td>\n",
       "      <td>7.41</td>\n",
       "    </tr>\n",
       "    <tr>\n",
       "      <th>4</th>\n",
       "      <td>Bat</td>\n",
       "      <td>1</td>\n",
       "      <td>0</td>\n",
       "      <td>0.00</td>\n",
       "    </tr>\n",
       "    <tr>\n",
       "      <th>5</th>\n",
       "      <td>Wristshot</td>\n",
       "      <td>185</td>\n",
       "      <td>9</td>\n",
       "      <td>4.86</td>\n",
       "    </tr>\n",
       "    <tr>\n",
       "      <th>6</th>\n",
       "      <td>Wrap Around</td>\n",
       "      <td>4</td>\n",
       "      <td>0</td>\n",
       "      <td>0.00</td>\n",
       "    </tr>\n",
       "    <tr>\n",
       "      <th>7</th>\n",
       "      <td>Fan</td>\n",
       "      <td>11</td>\n",
       "      <td>0</td>\n",
       "      <td>0.00</td>\n",
       "    </tr>\n",
       "  </tbody>\n",
       "</table>\n",
       "</div>"
      ],
      "text/plain": [
       "     Shot Type  Total Attempted  Success  Success Rate\n",
       "0     Snapshot              167        8          4.79\n",
       "1         Poke                1        0          0.00\n",
       "2     Slapshot               27        1          3.70\n",
       "3   Deflection               27        2          7.41\n",
       "4          Bat                1        0          0.00\n",
       "5    Wristshot              185        9          4.86\n",
       "6  Wrap Around                4        0          0.00\n",
       "7          Fan               11        0          0.00"
      ]
     },
     "execution_count": 170,
     "metadata": {},
     "output_type": "execute_result"
    }
   ],
   "source": [
    "df['Success Rate'] = round((df['Success'] / df['Total Attempted'] ) , 4) * 100\n",
    "df"
   ]
  },
  {
   "cell_type": "markdown",
   "id": "3ad18baa-dca7-4a58-8f53-e84bf4ab2182",
   "metadata": {},
   "source": [
    "From this data set, we can see that out of all the shots, Deflection shots have the highest success rate. To test whether this is actually true we will conduct a hypothesis test."
   ]
  },
  {
   "cell_type": "markdown",
   "id": "8ea825c1-475a-4725-9355-b192adc8979b",
   "metadata": {},
   "source": [
    "## Hypothesis Test:\n",
    "\n",
    "Null Hypothesis: All types of shots have the same chance of yielding success.\n",
    "\n",
    "Alternative Hypothesis: One type of shot has a higher chance of yielding success, in this case, a deflection shot."
   ]
  },
  {
   "cell_type": "code",
   "execution_count": 171,
   "id": "2832207e-7beb-45f6-8563-a5094d1bc771",
   "metadata": {},
   "outputs": [
    {
     "data": {
      "text/plain": [
       "0.04728132387706856"
      ]
     },
     "execution_count": 171,
     "metadata": {},
     "output_type": "execute_result"
    }
   ],
   "source": [
    "total_attempts = df[\"Total Attempted\"].values\n",
    "successes = df[\"Success\"].values\n",
    "\n",
    "overall_success_rate = successes.sum()/total_attempts.sum()\n",
    "overall_success_rate"
   ]
  },
  {
   "cell_type": "code",
   "execution_count": 153,
   "id": "3da3f98a-5eee-4d29-852f-bbd561b29100",
   "metadata": {},
   "outputs": [],
   "source": [
    "z_scores = []\n",
    "p_values = []\n",
    "\n",
    "#Z-test\n",
    "for attempts, success in zip(total_attempts, successes):\n",
    "    success_rate = success/attempts\n",
    "\n",
    "    #standard error\n",
    "    se = np.sqrt((success_rate * (1 - success_rate)) / attempts)\n",
    "\n",
    "    #z-score\n",
    "    if se == 0:\n",
    "        z = np.nan\n",
    "        p = np.nan\n",
    "    else:\n",
    "        z = (success_rate - overall_success_rate) / se\n",
    "        p = 2 * (1 - norm.cdf(np.abs(z))) \n",
    "\n",
    "    z_scores.append(z)\n",
    "    p_values.append(p) "
   ]
  },
  {
   "cell_type": "code",
   "execution_count": 172,
   "id": "34562d5f-aab1-4c11-bd4e-ec69590f0df5",
   "metadata": {},
   "outputs": [
    {
     "name": "stdout",
     "output_type": "stream",
     "text": [
      "Snapshot: p-value = nan\n",
      "Poke: p-value = 0.9311108077426082\n",
      "Slapshot: p-value = nan\n",
      "Deflection: p-value = 0.9699347902522513\n",
      "Bat: p-value = nan\n",
      "Wristshot: p-value = 0.7780472513035825\n",
      "Wrap Around: p-value = 0.5950090286606828\n",
      "Fan: p-value = nan\n"
     ]
    }
   ],
   "source": [
    "sig_shot_types = []\n",
    "for shot_type, p in zip(df['Shot Type'], p_values):\n",
    "    print(shot_type + \": p-value = \" + str(p))\n",
    "    if p < 0.05:\n",
    "        sig_shot_types.append(shot_type)"
   ]
  },
  {
   "cell_type": "markdown",
   "id": "844887ee-86fa-43c0-9075-b4c55b9b5d08",
   "metadata": {},
   "source": [
    "Since all of the p-values are less than 0.05, or equal to nan, we cannot come to a conclusion right now. So to further analyze this, I will perform a chi-square test."
   ]
  },
  {
   "cell_type": "code",
   "execution_count": 173,
   "id": "c82b4c0c-4125-44e2-936d-27c4484d5de3",
   "metadata": {},
   "outputs": [],
   "source": [
    "#observed\n",
    "total_attempts = df[\"Total Attempted\"].values\n",
    "successes = df[\"Success\"].values"
   ]
  },
  {
   "cell_type": "code",
   "execution_count": 174,
   "id": "aff9ddce-ca75-4826-bdb7-832344bb6711",
   "metadata": {},
   "outputs": [],
   "source": [
    "overall_success_rate = successes.sum() / total_attempts.sum()\n",
    "expected_successes = total_attempts * overall_success_rate\n",
    "contingency_table = np.array([successes, expected_successes])"
   ]
  },
  {
   "cell_type": "code",
   "execution_count": 175,
   "id": "ce056bad-1dcf-48f8-910c-a56103990764",
   "metadata": {},
   "outputs": [],
   "source": [
    "chi2, p, _, _ = chi2_contingency(contingency_table)"
   ]
  },
  {
   "cell_type": "code",
   "execution_count": 176,
   "id": "81c8b9be-0ae1-448c-9136-c0501d8fb5a2",
   "metadata": {},
   "outputs": [
    {
     "name": "stdout",
     "output_type": "stream",
     "text": [
      "Chi square statistic: 1.0013863559852174\n",
      "P-value: 0.9948061416640558\n"
     ]
    }
   ],
   "source": [
    "print(\"Chi square statistic: \" + str(chi2))\n",
    "print(\"P-value: \" + str(p))"
   ]
  },
  {
   "cell_type": "markdown",
   "id": "01d902b5-5c80-4f91-90c2-b0e808b7ad31",
   "metadata": {},
   "source": [
    "Given that the p-value is greater than the significance level of 0.05, we fail to reject the null hypothesis. This suggests that there is not enough evidence to conclude that there is a significant difference in success rates among the different types of shots. "
   ]
  },
  {
   "cell_type": "code",
   "execution_count": 206,
   "id": "7799351c-6774-40cf-ae5c-98dc2bb3089e",
   "metadata": {},
   "outputs": [
    {
     "data": {
      "image/png": "[encoded data removed]",
      "text/plain": [
       "<Figure size 1000x600 with 1 Axes>"
      ]
     },
     "metadata": {},
     "output_type": "display_data"
    }
   ],
   "source": [
    "# Define observed and expected frequencies\n",
    "observed = contingency_table[0]\n",
    "expected = contingency_table[1]\n",
    "\n",
    "# Define categories (e.g., shot types)\n",
    "categories = df[\"Shot Type\"]\n",
    "\n",
    "# Plot observed and expected frequencies\n",
    "plt.figure(figsize=(10, 6))\n",
    "plt.bar(categories, expected, color='blue', alpha=0.5, label='Expected')\n",
    "plt.bar(categories, observed - expected, bottom=expected, color='red', alpha=0.5, label='Observed')\n",
    "plt.xlabel('Shot Type')\n",
    "plt.ylabel('Frequency')\n",
    "plt.title('Observed vs. Expected Frequencies of Success')\n",
    "plt.legend()\n",
    "plt.xticks(rotation=45, ha='right')\n",
    "plt.tight_layout()\n",
    "plt.show()"
   ]
  },
  {
   "cell_type": "markdown",
   "id": "925ed802-334b-4fec-a5ea-48543524b285",
   "metadata": {},
   "source": [
    "This diagram represents the observed and expected frequencies of Success. The blue bars represents the number of successes that were expected and the salmon-colored bar represents the number of successes actually observed in the game. Because we only have access to the data of one game, the number of observed is far less than the number of expected goals. Because of this, we don't have enough data/evidence to draw a conclusion about which shot type leads to the most number of goals. "
   ]
  },
  {
   "cell_type": "markdown",
   "id": "5bc35940-f8b2-4c11-99b1-badffc6befbc",
   "metadata": {},
   "source": [
    "We will now calculate the Phi coefficient to measure the association between the success of a shot, the total number of attempts, and the type of shot. To do this, we need  to construct a contingency table for each pair of variables. Since the Phi coefficient is typically used for two binary variables, we need to choose one variable as the binary variable and the other as the categorical variable.\n"
   ]
  },
  {
   "cell_type": "code",
   "execution_count": 181,
   "id": "bc8ca79c-1e81-449a-84b7-6fc9d4360089",
   "metadata": {},
   "outputs": [
    {
     "data": {
      "text/html": [
       "<div>\n",
       "<style scoped>\n",
       "    .dataframe tbody tr th:only-of-type {\n",
       "        vertical-align: middle;\n",
       "    }\n",
       "\n",
       "    .dataframe tbody tr th {\n",
       "        vertical-align: top;\n",
       "    }\n",
       "\n",
       "    .dataframe thead th {\n",
       "        text-align: right;\n",
       "    }\n",
       "</style>\n",
       "<table border=\"1\" class=\"dataframe\">\n",
       "  <thead>\n",
       "    <tr style=\"text-align: right;\">\n",
       "      <th>Shot Type</th>\n",
       "      <th>Bat</th>\n",
       "      <th>Deflection</th>\n",
       "      <th>Fan</th>\n",
       "      <th>Poke</th>\n",
       "      <th>Slapshot</th>\n",
       "      <th>Snapshot</th>\n",
       "      <th>Wrap Around</th>\n",
       "      <th>Wristshot</th>\n",
       "    </tr>\n",
       "  </thead>\n",
       "  <tbody>\n",
       "    <tr>\n",
       "      <th>Success</th>\n",
       "      <td>0.0</td>\n",
       "      <td>2.00</td>\n",
       "      <td>0.0</td>\n",
       "      <td>0.0</td>\n",
       "      <td>1.0</td>\n",
       "      <td>8.00</td>\n",
       "      <td>0.0</td>\n",
       "      <td>9.00</td>\n",
       "    </tr>\n",
       "    <tr>\n",
       "      <th>Success Rate</th>\n",
       "      <td>0.0</td>\n",
       "      <td>7.41</td>\n",
       "      <td>0.0</td>\n",
       "      <td>0.0</td>\n",
       "      <td>3.7</td>\n",
       "      <td>4.79</td>\n",
       "      <td>0.0</td>\n",
       "      <td>4.86</td>\n",
       "    </tr>\n",
       "    <tr>\n",
       "      <th>Total Attempted</th>\n",
       "      <td>1.0</td>\n",
       "      <td>27.00</td>\n",
       "      <td>11.0</td>\n",
       "      <td>1.0</td>\n",
       "      <td>27.0</td>\n",
       "      <td>167.00</td>\n",
       "      <td>4.0</td>\n",
       "      <td>185.00</td>\n",
       "    </tr>\n",
       "  </tbody>\n",
       "</table>\n",
       "</div>"
      ],
      "text/plain": [
       "Shot Type        Bat  Deflection   Fan  Poke  Slapshot  Snapshot  Wrap Around  \\\n",
       "Success          0.0        2.00   0.0   0.0       1.0      8.00          0.0   \n",
       "Success Rate     0.0        7.41   0.0   0.0       3.7      4.79          0.0   \n",
       "Total Attempted  1.0       27.00  11.0   1.0      27.0    167.00          4.0   \n",
       "\n",
       "Shot Type        Wristshot  \n",
       "Success               9.00  \n",
       "Success Rate          4.86  \n",
       "Total Attempted     185.00  "
      ]
     },
     "execution_count": 181,
     "metadata": {},
     "output_type": "execute_result"
    }
   ],
   "source": [
    "shot_type_df = df.pivot_table(index=None, columns='Shot Type', values=['Total Attempted', 'Success', 'Success Rate'])\n",
    "shot_type_df"
   ]
  },
  {
   "cell_type": "code",
   "execution_count": 193,
   "id": "141cb103-1b79-430d-abbe-14bb25e09b5e",
   "metadata": {},
   "outputs": [
    {
     "name": "stdout",
     "output_type": "stream",
     "text": [
      "Phi coefficients for Success vs. Shot Type: [-0.010342694087559725, 0.030362468374442488, -0.03469758779399013, -0.010342694087559725, -0.01180042410912259, 0.0022089255246991986, -0.02075594683882244, 0.005292953244512393]\n",
      "\n",
      "Phi coefficients for Total Attempted vs. Shot Type: [-0.010528325454632552, 0.2314300585546848, -0.0353196407395582, -0.010528325454632552, 0.09519736142414914, -0.07112877504628953, -0.021128352046051572, -0.08674860044698723]\n"
     ]
    }
   ],
   "source": [
    "def phi_coefficient(n11, n10, n01, n00):\n",
    "    return (n11 * n00 - n10 * n01) / np.sqrt((n11 + n10) * (n11 + n01) * (n10 + n00) * (n01 + n00))\n",
    "\n",
    "# Initialize lists to store phi coefficients\n",
    "phi_coefficients_success = []\n",
    "phi_coefficients_attempted = []\n",
    "\n",
    "# Iterate over each shot type\n",
    "for shot_type in shot_types:\n",
    "    # Calculate the contingency table for Success vs. Shot Type\n",
    "    success_column = shot_type_df.loc[\"Success\"]\n",
    "    total_attempted_column = shot_type_df.loc[\"Total Attempted\"]\n",
    "\n",
    "    n11 = success_column[shot_type]\n",
    "    n10 = success_column[~success_column.index.isin([shot_type])].sum()  \n",
    "    n01 = total_attempted_column[shot_type]\n",
    "    n00 = total_attempted_column[~total_attempted_column.index.isin([shot_type])].sum()  \n",
    "\n",
    "    # Calculate Phi coefficient for Success vs. Shot Type\n",
    "    phi_success_shot_type = phi_coefficient(n11, n10, n01, n00)\n",
    "    phi_coefficients_success.append(phi_success_shot_type)\n",
    "\n",
    "    # Calculate the contingency table for Total Attempted vs. Shot Type\n",
    "    success_rate_column = shot_type_df.loc[\"Success Rate\"]\n",
    "\n",
    "    n11 = success_rate_column[shot_type]\n",
    "    n10 = success_rate_column[~success_rate_column.index.isin([shot_type])].sum()\n",
    "    n01 = total_attempted_column[shot_type]\n",
    "    n00 = total_attempted_column[~total_attempted_column.index.isin([shot_type])].sum()\n",
    "\n",
    "    # Calculate Phi coefficient for Total Attempted vs. Shot Type\n",
    "    phi_attempted_shot_type = phi_coefficient(n11, n10, n01, n00)\n",
    "    phi_coefficients_attempted.append(phi_attempted_shot_type)\n",
    "\n",
    "# Print the phi coefficients\n",
    "print(\"Phi coefficients for Success vs. Shot Type:\", phi_coefficients_success)\n",
    "print()\n",
    "print(\"Phi coefficients for Total Attempted vs. Shot Type:\", phi_coefficients_attempted)\n"
   ]
  },
  {
   "cell_type": "markdown",
   "id": "5cbcfd27-cb73-4e5f-b49f-250b072f722a",
   "metadata": {},
   "source": [
    "Phi Coefficients for Success vs. Shot Type: \n",
    "In this one game, there exists a weak positive/negative correlation between the success of the shot and the Shot Type, which means that shot type isn't a method that should be used when trying to determine whether shot type can yield a greater change of getting a goal.\n",
    "\n",
    "Phi Coefficients for Total Attempted vs. Shot Type:\n",
    "Similarly, there exists a weak positive/negative correlation between an attempted shot and the shot type. Compared to the correlation above, there seems to be a bigger association with the total number of shots attempted and shot type. However at the same time since all these phi coefficients are close to 0, shot type should not be an indicator in determining wha tshot type leads to the greatest number of attempts without a goal. "
   ]
  }
 ],
 "metadata": {
  "kernelspec": {
   "display_name": "Python 3 (ipykernel)",
   "language": "python",
   "name": "python3"
  },
  "language_info": {
   "codemirror_mode": {
    "name": "ipython",
    "version": 3
   },
   "file_extension": ".py",
   "mimetype": "text/x-python",
   "name": "python",
   "nbconvert_exporter": "python",
   "pygments_lexer": "ipython3",
   "version": "3.11.7"
  }
 },
 "nbformat": 4,
 "nbformat_minor": 5
}
